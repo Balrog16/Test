{
  "nbformat": 4,
  "nbformat_minor": 0,
  "metadata": {
    "colab": {
      "name": "MIMII-Fan-Training.ipynb",
      "provenance": [],
      "collapsed_sections": [],
      "authorship_tag": "ABX9TyNOSAUQ5Ou77PzLAWypmXXV",
      "include_colab_link": true
    },
    "kernelspec": {
      "name": "python3",
      "display_name": "Python 3"
    }
  },
  "cells": [
    {
      "cell_type": "markdown",
      "metadata": {
        "id": "view-in-github",
        "colab_type": "text"
      },
      "source": [
        "<a href=\"https://colab.research.google.com/github/Balrog16/Test/blob/master/MIMII_Fan_Training.ipynb\" target=\"_parent\"><img src=\"https://colab.research.google.com/assets/colab-badge.svg\" alt=\"Open In Colab\"/></a>"
      ]
    },
    {
      "cell_type": "markdown",
      "metadata": {
        "id": "gEQYB-AbQ_WU",
        "colab_type": "text"
      },
      "source": [
        "**Background**\n",
        "\n",
        "Fan audio data from MIMII database is played after combining a few files randomly to form two audio records - normal and abnormal, each lasting for 520 sec. This data is played on JBL Go speaker with SITRANS-MS placed in the middle of the speaker. This arrangement is to vibrate the sensor and obtain the stream via BLE using MATLAB scripts. There are two sets of JSON files each for Normal audio and abnormal audio data.\n"
      ]
    },
    {
      "cell_type": "code",
      "metadata": {
        "id": "1aZy_2ifR7j7",
        "colab_type": "code",
        "colab": {}
      },
      "source": [
        "# all imports\n",
        "import json\n",
        "import numpy as np\n",
        "import tensorflow as tf\n",
        "from numpy import savetxt"
      ],
      "execution_count": null,
      "outputs": []
    },
    {
      "cell_type": "code",
      "metadata": {
        "id": "m0MQcCt0eS8D",
        "colab_type": "code",
        "colab": {}
      },
      "source": [
        "class SMSData:\n",
        "    def __init__(self, fileName, label):\n",
        "        self.fileName = fileName\n",
        "        f = open(self.fileName)\n",
        "        data = json.load(f)\n",
        "        self.accelX = np.array(data['values']['5FF8'])\n",
        "        self.accelY = np.array(data['values']['5FF9'])\n",
        "        self.accelZ = np.array(data['values']['5FFA'])\n",
        "        # Collapse the last two columns to one by 2-norm of the components\n",
        "        self.accelX = np.sqrt(np.square(self.accelX[:,:,0]) + np.square(self.accelX[:, :, 1]))\n",
        "        self.accelY = np.sqrt(np.square(self.accelY[:,:,0]) + np.square(self.accelY[:, :, 1]))\n",
        "        self.accelZ = np.sqrt(np.square(self.accelZ[:,:,0]) + np.square(self.accelZ[:, :, 1]))\n",
        "        # Close the file\n",
        "        f.close()\n",
        "        self.minCols = (min(self.accelX.shape[1], self.accelY.shape[1], self.accelZ.shape[1]))\n",
        "        self.accelX  = np.transpose(self.accelX[:, 0: self.minCols])\n",
        "        self.accelY  = np.transpose(self.accelY[:, 0: self.minCols])\n",
        "        self.accelZ  = np.transpose(self.accelZ[:, 0: self.minCols])\n",
        "        self.yData   = np.ones([self.accelY.shape[0], 1])*label\n",
        "        self.featVecA = self.accelX + self.accelY + self.accelZ \n",
        "        self.featVecB  = np.dstack((self.accelX, self.accelY, self.accelZ))\n"
      ],
      "execution_count": null,
      "outputs": []
    },
    {
      "cell_type": "code",
      "metadata": {
        "id": "tjxpShbrWEzn",
        "colab_type": "code",
        "colab": {}
      },
      "source": [
        "# create empty objects\n",
        "SMSDataObjNormal_1   = []\n",
        "SMSDataObjNormal_2   = []\n",
        "SMSDataObjabNormal_1 = []\n",
        "SMSDataObjabNormal_2 = []\n",
        "\n",
        "# define a class object to hold the data\n",
        "SMSDataObjNormal_1 = SMSData(\"/content/normal_1_6dB_Fan.json\", 0)\n",
        "SMSDataObjNormal_2 = SMSData(\"/content/normal_2_6dB_Fan.json\", 0)\n",
        "SMSDataObjabNormal_1 = SMSData(\"/content/sample_data/abnormal_1_6dB_Fan.json\", 1)\n",
        "SMSDataObjabNormal_2 = SMSData(\"/content/sample_data/abnormal_2_6dB_Fan.json\", 1)\n"
      ],
      "execution_count": null,
      "outputs": []
    },
    {
      "cell_type": "code",
      "metadata": {
        "id": "rO3rNY-SyU0p",
        "colab_type": "code",
        "colab": {
          "base_uri": "https://localhost:8080/",
          "height": 85
        },
        "outputId": "ac601498-d8b1-4c58-ab57-cd57600488e6"
      },
      "source": [
        "# for debug purpose\n",
        "print('No of columns used', SMSDataObjabNormal_1.minCols)\n",
        "print('Size of each axis', np.shape(SMSDataObjabNormal_1.accelX))\n",
        "print('Feature vector B looks like', np.shape(SMSDataObjabNormal_1.featVecB))\n",
        "minCols = min(SMSDataObjNormal_1.minCols, SMSDataObjNormal_2.minCols, SMSDataObjabNormal_1.minCols, SMSDataObjabNormal_1.minCols)\n",
        "print('Minimum cols across the data is', minCols)"
      ],
      "execution_count": null,
      "outputs": [
        {
          "output_type": "stream",
          "text": [
            "No of columns used 513\n",
            "Size of each axis (513, 256)\n",
            "Feature vector B looks like (513, 256, 3)\n",
            "Minimum cols across the data is 512\n"
          ],
          "name": "stdout"
        }
      ]
    },
    {
      "cell_type": "code",
      "metadata": {
        "id": "jrHs9-0F_yMt",
        "colab_type": "code",
        "colab": {}
      },
      "source": [
        "trainIdx = 451\n",
        "testIdx = 451\n",
        "endIdx = minCols\n",
        "# generate a dataset for training and testing\n",
        "x_train = np.concatenate((SMSDataObjNormal_1.featVecB[1:trainIdx, :, :], \n",
        "                          SMSDataObjabNormal_1.featVecB[1:trainIdx, :, :], \n",
        "                          SMSDataObjNormal_2.featVecB[1:trainIdx, :, :], \n",
        "                          SMSDataObjabNormal_2.featVecB[1:trainIdx, :, :]))\n",
        "\n",
        "y_train = np.concatenate((SMSDataObjNormal_1.yData[1:trainIdx, :], \n",
        "                          SMSDataObjabNormal_1.yData[1:trainIdx, :], \n",
        "                          SMSDataObjNormal_2.yData[1:trainIdx, :], \n",
        "                          SMSDataObjabNormal_2.yData[1:trainIdx, :]))\n",
        "\n",
        "x_test = np.concatenate((SMSDataObjNormal_1.featVecB[testIdx:endIdx, :, :], \n",
        "                          SMSDataObjNormal_2.featVecB[testIdx:endIdx, :, :], \n",
        "                          SMSDataObjabNormal_1.featVecB[testIdx:endIdx, :, :], \n",
        "                          SMSDataObjabNormal_2.featVecB[testIdx:endIdx, :, :]))\n",
        "\n",
        "y_test = np.concatenate((SMSDataObjNormal_1.yData[testIdx:endIdx, :], \n",
        "                          SMSDataObjNormal_2.yData[testIdx:endIdx, :], \n",
        "                          SMSDataObjabNormal_1.yData[testIdx:endIdx, :], \n",
        "                          SMSDataObjabNormal_2.yData[testIdx:endIdx, :]))"
      ],
      "execution_count": null,
      "outputs": []
    },
    {
      "cell_type": "code",
      "metadata": {
        "id": "aqfmDM63GJqf",
        "colab_type": "code",
        "colab": {
          "base_uri": "https://localhost:8080/",
          "height": 85
        },
        "outputId": "c5e8e6d6-fd26-4a00-b6a9-017e18ac9ee9"
      },
      "source": [
        "# check vector shape\n",
        "print(x_train.shape)\n",
        "print(y_train.shape)\n",
        "\n",
        "print(x_test.shape)\n",
        "print(y_test.shape)\n"
      ],
      "execution_count": null,
      "outputs": [
        {
          "output_type": "stream",
          "text": [
            "(1800, 256, 3)\n",
            "(1800, 1)\n",
            "(244, 256, 3)\n",
            "(244, 1)\n"
          ],
          "name": "stdout"
        }
      ]
    },
    {
      "cell_type": "code",
      "metadata": {
        "id": "xJR7yZe6qNnf",
        "colab_type": "code",
        "colab": {}
      },
      "source": [
        "# time to try NN\n",
        "\n",
        "# model\n",
        "model = tf.keras.models.Sequential([\n",
        "  tf.keras.layers.Flatten(input_shape=(256, 3)),\n",
        "  tf.keras.layers.Dense(64, activation='relu'),\n",
        "  tf.keras.layers.Dropout(0.2),\n",
        "  tf.keras.layers.Dense(2)\n",
        "])\n",
        "\n",
        "# loss function\n",
        "loss_fn = tf.keras.losses.SparseCategoricalCrossentropy(from_logits=True)\n",
        "\n",
        "# settings\n",
        "model.compile(optimizer='adam',\n",
        "              loss=loss_fn,\n",
        "              metrics=['accuracy'])"
      ],
      "execution_count": 69,
      "outputs": []
    },
    {
      "cell_type": "code",
      "metadata": {
        "id": "GrcMPIasqoGF",
        "colab_type": "code",
        "colab": {
          "base_uri": "https://localhost:8080/",
          "height": 884
        },
        "outputId": "fd2cbb40-c182-45d1-e0f8-c74a115a796b"
      },
      "source": [
        "# train the dog\n",
        "model.fit(x_train, y_train, epochs=25)"
      ],
      "execution_count": 70,
      "outputs": [
        {
          "output_type": "stream",
          "text": [
            "Epoch 1/25\n",
            "57/57 [==============================] - 0s 1ms/step - loss: 5.8309 - accuracy: 0.5467\n",
            "Epoch 2/25\n",
            "57/57 [==============================] - 0s 1ms/step - loss: 2.3241 - accuracy: 0.6883\n",
            "Epoch 3/25\n",
            "57/57 [==============================] - 0s 1ms/step - loss: 0.9347 - accuracy: 0.7900\n",
            "Epoch 4/25\n",
            "57/57 [==============================] - 0s 1ms/step - loss: 0.3983 - accuracy: 0.8800\n",
            "Epoch 5/25\n",
            "57/57 [==============================] - 0s 1ms/step - loss: 0.1924 - accuracy: 0.9289\n",
            "Epoch 6/25\n",
            "57/57 [==============================] - 0s 1ms/step - loss: 0.1301 - accuracy: 0.9511\n",
            "Epoch 7/25\n",
            "57/57 [==============================] - 0s 1ms/step - loss: 0.1020 - accuracy: 0.9656\n",
            "Epoch 8/25\n",
            "57/57 [==============================] - 0s 1ms/step - loss: 0.0783 - accuracy: 0.9711\n",
            "Epoch 9/25\n",
            "57/57 [==============================] - 0s 1ms/step - loss: 0.0681 - accuracy: 0.9778\n",
            "Epoch 10/25\n",
            "57/57 [==============================] - 0s 1ms/step - loss: 0.0598 - accuracy: 0.9767\n",
            "Epoch 11/25\n",
            "57/57 [==============================] - 0s 1ms/step - loss: 0.0529 - accuracy: 0.9839\n",
            "Epoch 12/25\n",
            "57/57 [==============================] - 0s 1ms/step - loss: 0.0452 - accuracy: 0.9872\n",
            "Epoch 13/25\n",
            "57/57 [==============================] - 0s 1ms/step - loss: 0.0405 - accuracy: 0.9917\n",
            "Epoch 14/25\n",
            "57/57 [==============================] - 0s 1ms/step - loss: 0.0371 - accuracy: 0.9906\n",
            "Epoch 15/25\n",
            "57/57 [==============================] - 0s 1ms/step - loss: 0.0351 - accuracy: 0.9911\n",
            "Epoch 16/25\n",
            "57/57 [==============================] - 0s 1ms/step - loss: 0.0334 - accuracy: 0.9900\n",
            "Epoch 17/25\n",
            "57/57 [==============================] - 0s 1ms/step - loss: 0.0376 - accuracy: 0.9883\n",
            "Epoch 18/25\n",
            "57/57 [==============================] - 0s 1ms/step - loss: 0.0275 - accuracy: 0.9939\n",
            "Epoch 19/25\n",
            "57/57 [==============================] - 0s 1ms/step - loss: 0.0251 - accuracy: 0.9944\n",
            "Epoch 20/25\n",
            "57/57 [==============================] - 0s 1ms/step - loss: 0.0182 - accuracy: 0.9967\n",
            "Epoch 21/25\n",
            "57/57 [==============================] - 0s 1ms/step - loss: 0.0184 - accuracy: 0.9983\n",
            "Epoch 22/25\n",
            "57/57 [==============================] - 0s 1ms/step - loss: 0.0202 - accuracy: 0.9956\n",
            "Epoch 23/25\n",
            "57/57 [==============================] - 0s 1ms/step - loss: 0.0210 - accuracy: 0.9967\n",
            "Epoch 24/25\n",
            "57/57 [==============================] - 0s 1ms/step - loss: 0.0165 - accuracy: 0.9972\n",
            "Epoch 25/25\n",
            "57/57 [==============================] - 0s 1ms/step - loss: 0.0262 - accuracy: 0.9911\n"
          ],
          "name": "stdout"
        },
        {
          "output_type": "execute_result",
          "data": {
            "text/plain": [
              "<tensorflow.python.keras.callbacks.History at 0x7fc86254ddd8>"
            ]
          },
          "metadata": {
            "tags": []
          },
          "execution_count": 70
        }
      ]
    },
    {
      "cell_type": "code",
      "metadata": {
        "id": "-Q0adDX1q64f",
        "colab_type": "code",
        "colab": {
          "base_uri": "https://localhost:8080/",
          "height": 51
        },
        "outputId": "0117510b-af5a-42c1-aaf4-e8e0b82c90a9"
      },
      "source": [
        "# ask him to perform tricks\n",
        "model.evaluate(x_test[200:240],  y_test[200:240], verbose=2)"
      ],
      "execution_count": 71,
      "outputs": [
        {
          "output_type": "stream",
          "text": [
            "2/2 - 0s - loss: 0.0663 - accuracy: 0.9750\n"
          ],
          "name": "stdout"
        },
        {
          "output_type": "execute_result",
          "data": {
            "text/plain": [
              "[0.06627007573843002, 0.9750000238418579]"
            ]
          },
          "metadata": {
            "tags": []
          },
          "execution_count": 71
        }
      ]
    },
    {
      "cell_type": "code",
      "metadata": {
        "id": "y8ufej2rrxAT",
        "colab_type": "code",
        "colab": {
          "base_uri": "https://localhost:8080/",
          "height": 68
        },
        "outputId": "5b7fa78c-865a-4e06-a6de-3e0c4bd80969"
      },
      "source": [
        "# what's the probability?\n",
        "probability_model = tf.keras.Sequential([\n",
        "  model,\n",
        "  tf.keras.layers.Softmax()\n",
        "])\n",
        "\n",
        "probability_model(x_test[1:3])"
      ],
      "execution_count": 72,
      "outputs": [
        {
          "output_type": "execute_result",
          "data": {
            "text/plain": [
              "<tf.Tensor: shape=(2, 2), dtype=float32, numpy=\n",
              "array([[9.9999142e-01, 8.5378078e-06],\n",
              "       [9.9997568e-01, 2.4284695e-05]], dtype=float32)>"
            ]
          },
          "metadata": {
            "tags": []
          },
          "execution_count": 72
        }
      ]
    },
    {
      "cell_type": "code",
      "metadata": {
        "id": "lX4fkqCssdCS",
        "colab_type": "code",
        "colab": {
          "base_uri": "https://localhost:8080/",
          "height": 34
        },
        "outputId": "48e32349-5882-4d78-dcf6-e5fc7ef6a8a2"
      },
      "source": [
        "predictNow = model(x_test[120:121]).numpy()\n",
        "predictNow"
      ],
      "execution_count": 78,
      "outputs": [
        {
          "output_type": "execute_result",
          "data": {
            "text/plain": [
              "array([[-12.55127 , -13.230565]], dtype=float32)"
            ]
          },
          "metadata": {
            "tags": []
          },
          "execution_count": 78
        }
      ]
    }
  ]
}