{
  "nbformat": 4,
  "nbformat_minor": 0,
  "metadata": {
    "colab": {
      "name": "MIMII-Fan-Training.ipynb",
      "provenance": [],
      "collapsed_sections": [],
      "authorship_tag": "ABX9TyNs4GM0XFXk+Ym8m9UL7iUJ",
      "include_colab_link": true
    },
    "kernelspec": {
      "name": "python3",
      "display_name": "Python 3"
    }
  },
  "cells": [
    {
      "cell_type": "markdown",
      "metadata": {
        "id": "view-in-github",
        "colab_type": "text"
      },
      "source": [
        "<a href=\"https://colab.research.google.com/github/Balrog16/Test/blob/master/MIMII_Fan_Training.ipynb\" target=\"_parent\"><img src=\"https://colab.research.google.com/assets/colab-badge.svg\" alt=\"Open In Colab\"/></a>"
      ]
    },
    {
      "cell_type": "markdown",
      "metadata": {
        "id": "gEQYB-AbQ_WU",
        "colab_type": "text"
      },
      "source": [
        "**Background**\n",
        "\n",
        "Fan audio data from MIMII database is played after combining a few files randomly to form two audio records - normal and abnormal, each lasting for 520 sec. This data is played on JBL Go speaker with SITRANS-MS placed in the middle of the speaker. This arrangement is to vibrate the sensor and obtain the stream via BLE using MATLAB scripts. There are two sets of JSON files each for Normal audio and abnormal audio data.\n"
      ]
    },
    {
      "cell_type": "code",
      "metadata": {
        "id": "1aZy_2ifR7j7",
        "colab_type": "code",
        "colab": {}
      },
      "source": [
        "# all imports\n",
        "import json\n",
        "import numpy as np\n",
        "import tensorflow as tf\n",
        "from numpy import savetxt"
      ],
      "execution_count": null,
      "outputs": []
    },
    {
      "cell_type": "code",
      "metadata": {
        "id": "m0MQcCt0eS8D",
        "colab_type": "code",
        "colab": {}
      },
      "source": [
        "class SMSData:\n",
        "    def __init__(self, fileName, label):\n",
        "        self.fileName = fileName\n",
        "        f = open(self.fileName)\n",
        "        data = json.load(f)\n",
        "        self.accelX = np.array(data['values']['5FF8'])\n",
        "        self.accelY = np.array(data['values']['5FF9'])\n",
        "        self.accelZ = np.array(data['values']['5FFA'])\n",
        "        # Collapse the last two columns to one by 2-norm of the components\n",
        "        self.accelX = np.sqrt(np.square(self.accelX[:,:,0]) + np.square(self.accelX[:, :, 1]))\n",
        "        self.accelY = np.sqrt(np.square(self.accelY[:,:,0]) + np.square(self.accelY[:, :, 1]))\n",
        "        self.accelZ = np.sqrt(np.square(self.accelZ[:,:,0]) + np.square(self.accelZ[:, :, 1]))\n",
        "        # Close the file\n",
        "        f.close()\n",
        "        self.minCols = (min(self.accelX.shape[1], self.accelY.shape[1], self.accelZ.shape[1]))\n",
        "        self.accelX  = np.transpose(self.accelX[:, 0: self.minCols])\n",
        "        self.accelY  = np.transpose(self.accelY[:, 0: self.minCols])\n",
        "        self.accelZ  = np.transpose(self.accelZ[:, 0: self.minCols])\n",
        "        self.yData   = np.ones([self.accelY.shape[0], 1])*label\n",
        "        self.featVecA = self.accelX + self.accelY + self.accelZ \n",
        "        self.featVecB  = np.dstack((self.accelX, self.accelY, self.accelZ))\n"
      ],
      "execution_count": null,
      "outputs": []
    },
    {
      "cell_type": "code",
      "metadata": {
        "id": "tjxpShbrWEzn",
        "colab_type": "code",
        "colab": {}
      },
      "source": [
        "# create empty objects\n",
        "SMSDataObjNormal_1   = []\n",
        "SMSDataObjNormal_2   = []\n",
        "SMSDataObjabNormal_1 = []\n",
        "SMSDataObjabNormal_2 = []\n",
        "\n",
        "# define a class object to hold the data\n",
        "SMSDataObjNormal_1 = SMSData(\"/content/normal_1_6dB_Fan.json\", 0)\n",
        "SMSDataObjNormal_2 = SMSData(\"/content/normal_2_6dB_Fan.json\", 0)\n",
        "SMSDataObjabNormal_1 = SMSData(\"/content/sample_data/abnormal_1_6dB_Fan.json\", 1)\n",
        "SMSDataObjabNormal_2 = SMSData(\"/content/sample_data/abnormal_2_6dB_Fan.json\", 1)\n"
      ],
      "execution_count": null,
      "outputs": []
    },
    {
      "cell_type": "code",
      "metadata": {
        "id": "rO3rNY-SyU0p",
        "colab_type": "code",
        "colab": {
          "base_uri": "https://localhost:8080/",
          "height": 85
        },
        "outputId": "ac601498-d8b1-4c58-ab57-cd57600488e6"
      },
      "source": [
        "# for debug purpose\n",
        "print('No of columns used', SMSDataObjabNormal_1.minCols)\n",
        "print('Size of each axis', np.shape(SMSDataObjabNormal_1.accelX))\n",
        "print('Feature vector B looks like', np.shape(SMSDataObjabNormal_1.featVecB))\n",
        "minCols = min(SMSDataObjNormal_1.minCols, SMSDataObjNormal_2.minCols, SMSDataObjabNormal_1.minCols, SMSDataObjabNormal_1.minCols)\n",
        "print('Minimum cols across the data is', minCols)"
      ],
      "execution_count": null,
      "outputs": [
        {
          "output_type": "stream",
          "text": [
            "No of columns used 513\n",
            "Size of each axis (513, 256)\n",
            "Feature vector B looks like (513, 256, 3)\n",
            "Minimum cols across the data is 512\n"
          ],
          "name": "stdout"
        }
      ]
    },
    {
      "cell_type": "code",
      "metadata": {
        "id": "jrHs9-0F_yMt",
        "colab_type": "code",
        "colab": {}
      },
      "source": [
        "trainIdx = 451\n",
        "testIdx = 451\n",
        "endIdx = minCols\n",
        "# generate a dataset for training and testing\n",
        "x_train = np.concatenate((SMSDataObjNormal_1.featVecB[1:trainIdx, :, :], \n",
        "                          SMSDataObjNormal_2.featVecB[1:trainIdx, :, :], \n",
        "                          SMSDataObjabNormal_1.featVecB[1:trainIdx, :, :], \n",
        "                          SMSDataObjabNormal_2.featVecB[1:trainIdx, :, :]))\n",
        "\n",
        "y_train = np.concatenate((SMSDataObjNormal_1.yData[1:trainIdx, :], \n",
        "                          SMSDataObjNormal_2.yData[1:trainIdx, :], \n",
        "                          SMSDataObjabNormal_1.yData[1:trainIdx, :], \n",
        "                          SMSDataObjabNormal_2.yData[1:trainIdx, :]))\n",
        "\n",
        "x_test = np.concatenate((SMSDataObjNormal_1.featVecB[testIdx:endIdx, :, :], \n",
        "                          SMSDataObjNormal_2.featVecB[testIdx:endIdx, :, :], \n",
        "                          SMSDataObjabNormal_1.featVecB[testIdx:endIdx, :, :], \n",
        "                          SMSDataObjabNormal_2.featVecB[testIdx:endIdx, :, :]))\n",
        "\n",
        "y_test = np.concatenate((SMSDataObjNormal_1.yData[testIdx:endIdx, :], \n",
        "                          SMSDataObjNormal_2.yData[testIdx:endIdx, :], \n",
        "                          SMSDataObjabNormal_1.yData[testIdx:endIdx, :], \n",
        "                          SMSDataObjabNormal_2.yData[testIdx:endIdx, :]))"
      ],
      "execution_count": null,
      "outputs": []
    },
    {
      "cell_type": "code",
      "metadata": {
        "id": "aqfmDM63GJqf",
        "colab_type": "code",
        "colab": {
          "base_uri": "https://localhost:8080/",
          "height": 85
        },
        "outputId": "c5e8e6d6-fd26-4a00-b6a9-017e18ac9ee9"
      },
      "source": [
        "# check vector shape\n",
        "print(x_train.shape)\n",
        "print(y_train.shape)\n",
        "\n",
        "print(x_test.shape)\n",
        "print(y_test.shape)\n"
      ],
      "execution_count": null,
      "outputs": [
        {
          "output_type": "stream",
          "text": [
            "(1800, 256, 3)\n",
            "(1800, 1)\n",
            "(244, 256, 3)\n",
            "(244, 1)\n"
          ],
          "name": "stdout"
        }
      ]
    }
  ]
}