{
  "nbformat": 4,
  "nbformat_minor": 0,
  "metadata": {
    "colab": {
      "name": "MIMII-Fan-Training.ipynb",
      "provenance": [],
      "collapsed_sections": [],
      "authorship_tag": "ABX9TyPk3CFLTiB2XT0DDL+yFHAl",
      "include_colab_link": true
    },
    "kernelspec": {
      "name": "python3",
      "display_name": "Python 3"
    }
  },
  "cells": [
    {
      "cell_type": "markdown",
      "metadata": {
        "id": "view-in-github",
        "colab_type": "text"
      },
      "source": [
        "<a href=\"https://colab.research.google.com/github/Balrog16/Test/blob/master/MIMII_Fan_Training.ipynb\" target=\"_parent\"><img src=\"https://colab.research.google.com/assets/colab-badge.svg\" alt=\"Open In Colab\"/></a>"
      ]
    },
    {
      "cell_type": "markdown",
      "metadata": {
        "id": "gEQYB-AbQ_WU",
        "colab_type": "text"
      },
      "source": [
        "**Background**\n",
        "\n",
        "Fan audio data from MIMII database is played after combining a few files randomly to form two audio records - normal and abnormal, each lasting for 520 sec. This data is played on JBL Go speaker with SITRANS-MS placed in the middle of the speaker. This arrangement is to vibrate the sensor and obtain the stream via BLE using MATLAB scripts. There are two sets of JSON files each for Normal audio and abnormal audio data.\n"
      ]
    },
    {
      "cell_type": "code",
      "metadata": {
        "id": "1aZy_2ifR7j7",
        "colab_type": "code",
        "colab": {}
      },
      "source": [
        "# all imports\n",
        "import json\n",
        "import numpy as np\n",
        "import tensorflow as tf\n",
        "from numpy import savetxt"
      ],
      "execution_count": 8,
      "outputs": []
    },
    {
      "cell_type": "code",
      "metadata": {
        "id": "C-ut8C9wGmyY",
        "colab_type": "code",
        "colab": {}
      },
      "source": [
        "# code to shuffle \n",
        "# due credits to Josh Bleecher Snyder\n",
        "# https://stackoverflow.com/questions/4601373/better-way-to-shuffle-two-numpy-arrays-in-unison\n",
        "def shuffle_in_unison_scary(a, b):\n",
        "    rng_state = np.random.get_state()\n",
        "    np.random.shuffle(a)\n",
        "    np.random.set_state(rng_state)\n",
        "    np.random.shuffle(b)"
      ],
      "execution_count": 9,
      "outputs": []
    },
    {
      "cell_type": "code",
      "metadata": {
        "id": "m0MQcCt0eS8D",
        "colab_type": "code",
        "colab": {}
      },
      "source": [
        "class SMSData:\n",
        "    def __init__(self, fileName, label):\n",
        "        self.fileName = fileName\n",
        "        f = open(self.fileName)\n",
        "        data = json.load(f)\n",
        "        self.accelX = np.array(data['values']['5FF8'])\n",
        "        self.accelY = np.array(data['values']['5FF9'])\n",
        "        self.accelZ = np.array(data['values']['5FFA'])\n",
        "        # Collapse the last two columns to one by 2-norm of the components\n",
        "        self.accelX = np.sqrt(np.square(self.accelX[:,:,0]) + np.square(self.accelX[:, :, 1]))\n",
        "        self.accelY = np.sqrt(np.square(self.accelY[:,:,0]) + np.square(self.accelY[:, :, 1]))\n",
        "        self.accelZ = np.sqrt(np.square(self.accelZ[:,:,0]) + np.square(self.accelZ[:, :, 1]))\n",
        "        # Close the file\n",
        "        f.close()\n",
        "        self.minCols = (min(self.accelX.shape[1], self.accelY.shape[1], self.accelZ.shape[1]))\n",
        "        self.accelX  = np.transpose(self.accelX[:, 0: self.minCols])\n",
        "        self.accelY  = np.transpose(self.accelY[:, 0: self.minCols])\n",
        "        self.accelZ  = np.transpose(self.accelZ[:, 0: self.minCols])\n",
        "        self.yData   = np.ones([self.accelY.shape[0], 1])*label\n",
        "        self.featVecA = self.accelX + self.accelY + self.accelZ \n",
        "        self.featVecB  = np.dstack((self.accelX, self.accelY, self.accelZ))\n"
      ],
      "execution_count": 10,
      "outputs": []
    },
    {
      "cell_type": "code",
      "metadata": {
        "id": "tjxpShbrWEzn",
        "colab_type": "code",
        "colab": {}
      },
      "source": [
        "# create empty objects\n",
        "SMSDataObjNormal_1   = []\n",
        "SMSDataObjNormal_2   = []\n",
        "SMSDataObjabNormal_1 = []\n",
        "SMSDataObjabNormal_2 = []\n",
        "\n",
        "# define a class object to hold the data\n",
        "SMSDataObjNormal_1 = SMSData(\"/content/sample_data/normal_1_6dB_Fan.json\", 0)\n",
        "SMSDataObjNormal_2 = SMSData(\"/content/sample_data/normal_2_6dB_Fan.json\", 0)\n",
        "SMSDataObjabNormal_1 = SMSData(\"/content/sample_data/abnormal_1_6dB_Fan.json\", 1)\n",
        "SMSDataObjabNormal_2 = SMSData(\"/content/sample_data/abnormal_2_6dB_Fan.json\", 1)\n"
      ],
      "execution_count": 14,
      "outputs": []
    },
    {
      "cell_type": "code",
      "metadata": {
        "id": "rO3rNY-SyU0p",
        "colab_type": "code",
        "colab": {
          "base_uri": "https://localhost:8080/",
          "height": 85
        },
        "outputId": "9bfc0b26-7aac-4fdd-fec7-64b1557bcdb7"
      },
      "source": [
        "# for debug purpose\n",
        "print('No of columns used', SMSDataObjabNormal_1.minCols)\n",
        "print('Size of each axis', np.shape(SMSDataObjabNormal_1.accelX))\n",
        "print('Feature vector B looks like', np.shape(SMSDataObjabNormal_1.featVecB))\n",
        "minCols = min(SMSDataObjNormal_1.minCols, SMSDataObjNormal_2.minCols, SMSDataObjabNormal_1.minCols, SMSDataObjabNormal_1.minCols)\n",
        "print('Minimum cols across the data is', minCols)"
      ],
      "execution_count": 18,
      "outputs": [
        {
          "output_type": "stream",
          "text": [
            "No of columns used 513\n",
            "Size of each axis (513, 256)\n",
            "Feature vector B looks like (513, 256, 3)\n",
            "Minimum cols across the data is 512\n"
          ],
          "name": "stdout"
        }
      ]
    },
    {
      "cell_type": "code",
      "metadata": {
        "id": "1Y-iYAKfIuaq",
        "colab_type": "code",
        "colab": {
          "base_uri": "https://localhost:8080/",
          "height": 34
        },
        "outputId": "7a22b307-f4c8-4f54-c7eb-3ac196938e66"
      },
      "source": [
        "# get data in x (input) and y (output)\n",
        "x = np.concatenate((SMSDataObjNormal_1.featVecB, SMSDataObjabNormal_1.featVecB, \n",
        "                    SMSDataObjNormal_2.featVecB, SMSDataObjabNormal_2.featVecB))\n",
        "\n",
        "y = np.concatenate((SMSDataObjNormal_1.yData, SMSDataObjabNormal_1.yData, \n",
        "                    SMSDataObjNormal_2.yData, SMSDataObjabNormal_2.yData))\n",
        "\n",
        "# now shuffle the data, it doesn't matter anymore if these appear in order \n",
        "shuffle_in_unison_scary(x, y)\n",
        "\n",
        "print(np.shape(x), np.shape(y))"
      ],
      "execution_count": 19,
      "outputs": [
        {
          "output_type": "stream",
          "text": [
            "(2050, 256, 3) (2050, 1)\n"
          ],
          "name": "stdout"
        }
      ]
    },
    {
      "cell_type": "code",
      "metadata": {
        "id": "VQkrE2laT6xh",
        "colab_type": "code",
        "colab": {}
      },
      "source": [
        ""
      ],
      "execution_count": null,
      "outputs": []
    },
    {
      "cell_type": "code",
      "metadata": {
        "id": "jrHs9-0F_yMt",
        "colab_type": "code",
        "colab": {
          "base_uri": "https://localhost:8080/",
          "height": 85
        },
        "outputId": "c9de7ebb-0dbc-4dec-ee5a-08db2b0a3a82"
      },
      "source": [
        "trainIdx = 1801\n",
        "testIdx = 1801\n",
        "endIdx = 2040\n",
        "# generate a dataset for training and testing\n",
        "x_train = x[1:trainIdx, :, :]\n",
        "y_train = y[1:trainIdx, :]\n",
        "\n",
        "x_test = x[testIdx:endIdx, :, :]\n",
        "y_test = y[testIdx:endIdx, :]\n",
        "\n",
        "# check vector shape\n",
        "print(x_train.shape)\n",
        "print(y_train.shape)\n",
        "\n",
        "print(x_test.shape)\n",
        "print(y_test.shape)"
      ],
      "execution_count": 23,
      "outputs": [
        {
          "output_type": "stream",
          "text": [
            "(1800, 256, 3)\n",
            "(1800, 1)\n",
            "(239, 256, 3)\n",
            "(239, 1)\n"
          ],
          "name": "stdout"
        }
      ]
    },
    {
      "cell_type": "code",
      "metadata": {
        "id": "aqfmDM63GJqf",
        "colab_type": "code",
        "colab": {
          "base_uri": "https://localhost:8080/",
          "height": 85
        },
        "outputId": "2e89501f-86c6-434b-c20a-ae9d4dd81940"
      },
      "source": [
        "# check vector shape\n",
        "print(x_train.shape)\n",
        "print(y_train.shape)\n",
        "\n",
        "print(x_test.shape)\n",
        "print(y_test.shape)\n"
      ],
      "execution_count": 111,
      "outputs": [
        {
          "output_type": "stream",
          "text": [
            "(1800, 256, 3)\n",
            "(1800, 1)\n",
            "(244, 256, 3)\n",
            "(244, 1)\n"
          ],
          "name": "stdout"
        }
      ]
    },
    {
      "cell_type": "code",
      "metadata": {
        "id": "xJR7yZe6qNnf",
        "colab_type": "code",
        "colab": {}
      },
      "source": [
        "# time to try NN\n",
        "\n",
        "# model\n",
        "model = tf.keras.models.Sequential([\n",
        "  tf.keras.layers.Flatten(input_shape=(256, 3)),\n",
        "  tf.keras.layers.Dense(64, activation='relu'),\n",
        "  tf.keras.layers.Dropout(0.2),\n",
        "  tf.keras.layers.Dense(2)\n",
        "])\n",
        "\n",
        "# loss function\n",
        "loss_fn = tf.keras.losses.SparseCategoricalCrossentropy(from_logits=True)\n",
        "\n",
        "# settings\n",
        "model.compile(optimizer='adam',\n",
        "              loss=loss_fn,\n",
        "              metrics=['accuracy'])"
      ],
      "execution_count": 24,
      "outputs": []
    },
    {
      "cell_type": "code",
      "metadata": {
        "id": "GrcMPIasqoGF",
        "colab_type": "code",
        "colab": {
          "base_uri": "https://localhost:8080/",
          "height": 884
        },
        "outputId": "41793d98-f963-400c-8e6d-bf595b020c71"
      },
      "source": [
        "# train the dog\n",
        "model.fit(x_train, y_train, epochs=25)"
      ],
      "execution_count": 25,
      "outputs": [
        {
          "output_type": "stream",
          "text": [
            "Epoch 1/25\n",
            "57/57 [==============================] - 0s 1ms/step - loss: 6.0081 - accuracy: 0.5367\n",
            "Epoch 2/25\n",
            "57/57 [==============================] - 0s 1ms/step - loss: 2.5566 - accuracy: 0.6539\n",
            "Epoch 3/25\n",
            "57/57 [==============================] - 0s 1ms/step - loss: 1.0900 - accuracy: 0.7789\n",
            "Epoch 4/25\n",
            "57/57 [==============================] - 0s 1ms/step - loss: 0.4865 - accuracy: 0.8594\n",
            "Epoch 5/25\n",
            "57/57 [==============================] - 0s 1ms/step - loss: 0.2848 - accuracy: 0.9056\n",
            "Epoch 6/25\n",
            "57/57 [==============================] - 0s 1ms/step - loss: 0.1905 - accuracy: 0.9211\n",
            "Epoch 7/25\n",
            "57/57 [==============================] - 0s 1ms/step - loss: 0.1578 - accuracy: 0.9450\n",
            "Epoch 8/25\n",
            "57/57 [==============================] - 0s 1ms/step - loss: 0.1085 - accuracy: 0.9617\n",
            "Epoch 9/25\n",
            "57/57 [==============================] - 0s 1ms/step - loss: 0.1060 - accuracy: 0.9589\n",
            "Epoch 10/25\n",
            "57/57 [==============================] - 0s 2ms/step - loss: 0.0729 - accuracy: 0.9739\n",
            "Epoch 11/25\n",
            "57/57 [==============================] - 0s 1ms/step - loss: 0.0798 - accuracy: 0.9661\n",
            "Epoch 12/25\n",
            "57/57 [==============================] - 0s 2ms/step - loss: 0.0644 - accuracy: 0.9783\n",
            "Epoch 13/25\n",
            "57/57 [==============================] - 0s 1ms/step - loss: 0.0717 - accuracy: 0.9717\n",
            "Epoch 14/25\n",
            "57/57 [==============================] - 0s 1ms/step - loss: 0.0763 - accuracy: 0.9744\n",
            "Epoch 15/25\n",
            "57/57 [==============================] - 0s 1ms/step - loss: 0.0537 - accuracy: 0.9800\n",
            "Epoch 16/25\n",
            "57/57 [==============================] - 0s 1ms/step - loss: 0.0496 - accuracy: 0.9839\n",
            "Epoch 17/25\n",
            "57/57 [==============================] - 0s 1ms/step - loss: 0.0467 - accuracy: 0.9872\n",
            "Epoch 18/25\n",
            "57/57 [==============================] - 0s 1ms/step - loss: 0.0368 - accuracy: 0.9933\n",
            "Epoch 19/25\n",
            "57/57 [==============================] - 0s 1ms/step - loss: 0.0366 - accuracy: 0.9906\n",
            "Epoch 20/25\n",
            "57/57 [==============================] - 0s 1ms/step - loss: 0.0345 - accuracy: 0.9900\n",
            "Epoch 21/25\n",
            "57/57 [==============================] - 0s 1ms/step - loss: 0.0369 - accuracy: 0.9894\n",
            "Epoch 22/25\n",
            "57/57 [==============================] - 0s 1ms/step - loss: 0.0299 - accuracy: 0.9922\n",
            "Epoch 23/25\n",
            "57/57 [==============================] - 0s 1ms/step - loss: 0.0278 - accuracy: 0.9933\n",
            "Epoch 24/25\n",
            "57/57 [==============================] - 0s 1ms/step - loss: 0.0286 - accuracy: 0.9922\n",
            "Epoch 25/25\n",
            "57/57 [==============================] - 0s 1ms/step - loss: 0.0242 - accuracy: 0.9967\n"
          ],
          "name": "stdout"
        },
        {
          "output_type": "execute_result",
          "data": {
            "text/plain": [
              "<tensorflow.python.keras.callbacks.History at 0x7fa619754be0>"
            ]
          },
          "metadata": {
            "tags": []
          },
          "execution_count": 25
        }
      ]
    },
    {
      "cell_type": "code",
      "metadata": {
        "id": "-Q0adDX1q64f",
        "colab_type": "code",
        "colab": {
          "base_uri": "https://localhost:8080/",
          "height": 51
        },
        "outputId": "6cca04fc-ff5f-4adc-b0ac-89760919f25f"
      },
      "source": [
        "# ask him to perform tricks\n",
        "model.evaluate(x_test[1:220],  y_test[1:220], verbose=2)"
      ],
      "execution_count": 26,
      "outputs": [
        {
          "output_type": "stream",
          "text": [
            "7/7 - 0s - loss: 0.0550 - accuracy: 0.9909\n"
          ],
          "name": "stdout"
        },
        {
          "output_type": "execute_result",
          "data": {
            "text/plain": [
              "[0.05502455309033394, 0.990867555141449]"
            ]
          },
          "metadata": {
            "tags": []
          },
          "execution_count": 26
        }
      ]
    },
    {
      "cell_type": "code",
      "metadata": {
        "id": "y8ufej2rrxAT",
        "colab_type": "code",
        "colab": {
          "base_uri": "https://localhost:8080/",
          "height": 68
        },
        "outputId": "fb2ade37-5aa5-4ccc-94f1-386af3514bfd"
      },
      "source": [
        "# what's the probability?\n",
        "probability_model = tf.keras.Sequential([\n",
        "  model,\n",
        "  tf.keras.layers.Softmax()\n",
        "])\n",
        "\n",
        "probability_model(x_test[1:3])"
      ],
      "execution_count": 115,
      "outputs": [
        {
          "output_type": "execute_result",
          "data": {
            "text/plain": [
              "<tf.Tensor: shape=(2, 2), dtype=float32, numpy=\n",
              "array([[9.9999642e-01, 3.5605894e-06],\n",
              "       [9.9999213e-01, 7.8312723e-06]], dtype=float32)>"
            ]
          },
          "metadata": {
            "tags": []
          },
          "execution_count": 115
        }
      ]
    },
    {
      "cell_type": "code",
      "metadata": {
        "id": "lX4fkqCssdCS",
        "colab_type": "code",
        "colab": {
          "base_uri": "https://localhost:8080/",
          "height": 34
        },
        "outputId": "4f0e3baa-d5a1-4343-9093-04548229300a"
      },
      "source": [
        "predictNow = model(x_test[120:121]).numpy()\n",
        "predictNow"
      ],
      "execution_count": 116,
      "outputs": [
        {
          "output_type": "execute_result",
          "data": {
            "text/plain": [
              "array([[-2.6798193, -4.1256447]], dtype=float32)"
            ]
          },
          "metadata": {
            "tags": []
          },
          "execution_count": 116
        }
      ]
    },
    {
      "cell_type": "code",
      "metadata": {
        "id": "I_WdkDAfAgC6",
        "colab_type": "code",
        "colab": {
          "base_uri": "https://localhost:8080/",
          "height": 51
        },
        "outputId": "a690279f-4614-4e90-96e5-bcabb3d298fd"
      },
      "source": [
        "SMSDataObjNormal_3 = SMSData(\"/content/sample_data/normal_3HP_6dB_Fan.json\", 0)\n",
        "print('Feature vector B looks like', np.shape(SMSDataObjNormal_3.featVecB))\n",
        "x_test_a = SMSDataObjNormal_3.featVecB[1:trainIdx, :, :]\n",
        "y_test_a = SMSDataObjNormal_3.yData[1:trainIdx, :]\n",
        "print(np.shape(x_test_a), np.shape(y_test_a))                          "
      ],
      "execution_count": 27,
      "outputs": [
        {
          "output_type": "stream",
          "text": [
            "Feature vector B looks like (512, 256, 3)\n",
            "(511, 256, 3) (511, 1)\n"
          ],
          "name": "stdout"
        }
      ]
    },
    {
      "cell_type": "code",
      "metadata": {
        "id": "MpDVLOhNBS0B",
        "colab_type": "code",
        "colab": {
          "base_uri": "https://localhost:8080/",
          "height": 51
        },
        "outputId": "a4c33f6b-f2df-41c8-bcbc-b040e7fcfa1a"
      },
      "source": [
        "model.evaluate(x_test_a,  y_test_a, verbose=2)"
      ],
      "execution_count": 28,
      "outputs": [
        {
          "output_type": "stream",
          "text": [
            "16/16 - 0s - loss: 0.1175 - accuracy: 0.9589\n"
          ],
          "name": "stdout"
        },
        {
          "output_type": "execute_result",
          "data": {
            "text/plain": [
              "[0.11750569939613342, 0.9589040875434875]"
            ]
          },
          "metadata": {
            "tags": []
          },
          "execution_count": 28
        }
      ]
    },
    {
      "cell_type": "code",
      "metadata": {
        "id": "7oOnu63dHW_v",
        "colab_type": "code",
        "colab": {
          "base_uri": "https://localhost:8080/",
          "height": 51
        },
        "outputId": "45f3acc5-b1f6-4910-bb63-8ef49d8fb176"
      },
      "source": [
        "SMSDataObjabNormal_3 = SMSData(\"/content/sample_data/abnormal_3HP_6dB_Fan.json\", 1)\n",
        "print('Feature vector B looks like', np.shape(SMSDataObjabNormal_3.featVecB))\n",
        "x_test_ab = SMSDataObjabNormal_3.featVecB[1:trainIdx, :, :]\n",
        "y_test_ab = SMSDataObjabNormal_3.yData[1:trainIdx, :]\n",
        "print(np.shape(x_test_ab), np.shape(y_test_ab))   "
      ],
      "execution_count": 29,
      "outputs": [
        {
          "output_type": "stream",
          "text": [
            "Feature vector B looks like (513, 256, 3)\n",
            "(512, 256, 3) (512, 1)\n"
          ],
          "name": "stdout"
        }
      ]
    },
    {
      "cell_type": "code",
      "metadata": {
        "id": "pH_DjWKaHtS0",
        "colab_type": "code",
        "colab": {
          "base_uri": "https://localhost:8080/",
          "height": 51
        },
        "outputId": "25885efb-dd4a-481b-953d-0ab45edb7edf"
      },
      "source": [
        "model.evaluate(x_test_ab,  y_test_ab, verbose=2)"
      ],
      "execution_count": 30,
      "outputs": [
        {
          "output_type": "stream",
          "text": [
            "16/16 - 0s - loss: 1.1454 - accuracy: 0.7207\n"
          ],
          "name": "stdout"
        },
        {
          "output_type": "execute_result",
          "data": {
            "text/plain": [
              "[1.1453884840011597, 0.720703125]"
            ]
          },
          "metadata": {
            "tags": []
          },
          "execution_count": 30
        }
      ]
    }
  ]
}