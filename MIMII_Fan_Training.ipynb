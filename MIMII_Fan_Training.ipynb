{
  "nbformat": 4,
  "nbformat_minor": 0,
  "metadata": {
    "colab": {
      "name": "MIMII-Fan-Training.ipynb",
      "provenance": [],
      "collapsed_sections": [],
      "authorship_tag": "ABX9TyOBUNISF3zE1xkbKaqM23xH",
      "include_colab_link": true
    },
    "kernelspec": {
      "name": "python3",
      "display_name": "Python 3"
    }
  },
  "cells": [
    {
      "cell_type": "markdown",
      "metadata": {
        "id": "view-in-github",
        "colab_type": "text"
      },
      "source": [
        "<a href=\"https://colab.research.google.com/github/Balrog16/Test/blob/master/MIMII_Fan_Training.ipynb\" target=\"_parent\"><img src=\"https://colab.research.google.com/assets/colab-badge.svg\" alt=\"Open In Colab\"/></a>"
      ]
    },
    {
      "cell_type": "markdown",
      "metadata": {
        "id": "gEQYB-AbQ_WU",
        "colab_type": "text"
      },
      "source": [
        "**Background**\n",
        "\n",
        "Fan audio data from MIMII database is played after combining a few files randomly to form two audio records - normal and abnormal, each lasting for 520 sec. This data is played on JBL Go speaker with SITRANS-MS placed in the middle of the speaker. This arrangement is to vibrate the sensor and obtain the stream via BLE using MATLAB scripts. There are two sets of JSON files each for Normal audio and abnormal audio data.\n"
      ]
    },
    {
      "cell_type": "code",
      "metadata": {
        "id": "1aZy_2ifR7j7",
        "colab_type": "code",
        "colab": {}
      },
      "source": [
        "# all imports\n",
        "import json\n",
        "import numpy as np\n",
        "import tensorflow as tf\n",
        "from numpy import savetxt\n",
        "import matplotlib.pyplot as plt"
      ],
      "execution_count": 158,
      "outputs": []
    },
    {
      "cell_type": "code",
      "metadata": {
        "id": "C-ut8C9wGmyY",
        "colab_type": "code",
        "colab": {}
      },
      "source": [
        "# code to shuffle \n",
        "# due credits to Josh Bleecher Snyder\n",
        "# https://stackoverflow.com/questions/4601373/better-way-to-shuffle-two-numpy-arrays-in-unison\n",
        "def shuffle_in_unison_scary(a, b):\n",
        "    rng_state = np.random.get_state()\n",
        "    np.random.shuffle(a)\n",
        "    np.random.set_state(rng_state)\n",
        "    np.random.shuffle(b)"
      ],
      "execution_count": 159,
      "outputs": []
    },
    {
      "cell_type": "code",
      "metadata": {
        "id": "m0MQcCt0eS8D",
        "colab_type": "code",
        "colab": {}
      },
      "source": [
        "class SMSData:\n",
        "    def __init__(self, fileName, label):\n",
        "        self.fileName = fileName\n",
        "        f = open(self.fileName)\n",
        "        data = json.load(f)\n",
        "        self.accelX = np.array(data['values']['5FF8'])\n",
        "        self.accelY = np.array(data['values']['5FF9'])\n",
        "        self.accelZ = np.array(data['values']['5FFA'])\n",
        "        # Collapse the last two columns to one by 2-norm of the components\n",
        "        self.accelX = np.sqrt(np.square(self.accelX[:,:,0]) + np.square(self.accelX[:, :, 1]))\n",
        "        self.accelY = np.sqrt(np.square(self.accelY[:,:,0]) + np.square(self.accelY[:, :, 1]))\n",
        "        self.accelZ = np.sqrt(np.square(self.accelZ[:,:,0]) + np.square(self.accelZ[:, :, 1]))\n",
        "        # Close the file\n",
        "        f.close()\n",
        "        self.minCols = (min(self.accelX.shape[1], self.accelY.shape[1], self.accelZ.shape[1]))\n",
        "        self.accelX  = np.transpose(self.accelX[:, 0: self.minCols])\n",
        "        self.accelY  = np.transpose(self.accelY[:, 0: self.minCols])\n",
        "        self.accelZ  = np.transpose(self.accelZ[:, 0: self.minCols])\n",
        "        self.yData   = np.ones([self.accelY.shape[0], 1])*label\n",
        "        self.featVecA = self.accelX + self.accelY + self.accelZ \n",
        "        self.featVecB  = np.dstack((self.accelX, self.accelY, self.accelZ))\n"
      ],
      "execution_count": 160,
      "outputs": []
    },
    {
      "cell_type": "code",
      "metadata": {
        "id": "tjxpShbrWEzn",
        "colab_type": "code",
        "colab": {}
      },
      "source": [
        "# create empty objects\n",
        "SMSDataObjNormal_1   = []\n",
        "SMSDataObjNormal_2   = []\n",
        "SMSDataObjabNormal_1 = []\n",
        "SMSDataObjabNormal_2 = []\n",
        "\n",
        "# define a class object to hold the data\n",
        "SMSDataObjNormal_1 = SMSData(\"/content/sample_data/normal_1_6dB_Fan.json\", 0)\n",
        "SMSDataObjNormal_2 = SMSData(\"/content/sample_data/normal_2_6dB_Fan.json\", 0)\n",
        "SMSDataObjabNormal_1 = SMSData(\"/content/sample_data/abnormal_1_6dB_Fan.json\", 1)\n",
        "SMSDataObjabNormal_2 = SMSData(\"/content/sample_data/abnormal_2_6dB_Fan.json\", 1)\n",
        "SMSDataObjabNormal_4 = SMSData(\"/content/sample_data/abnormal_4HP_6dB_Fan.json\", 1)\n",
        "SMSDataObjNormal_5 = SMSData(\"/content/sample_data/normal_5_6dB_Fan.json\", 0)\n"
      ],
      "execution_count": 161,
      "outputs": []
    },
    {
      "cell_type": "code",
      "metadata": {
        "id": "rO3rNY-SyU0p",
        "colab_type": "code",
        "colab": {
          "base_uri": "https://localhost:8080/",
          "height": 85
        },
        "outputId": "46db57b5-a681-4e9e-c5c2-775f6bca68bc"
      },
      "source": [
        "# for debug purpose\n",
        "print('No of columns used', SMSDataObjabNormal_1.minCols)\n",
        "print('Size of each axis', np.shape(SMSDataObjabNormal_1.accelX))\n",
        "print('Feature vector B looks like', np.shape(SMSDataObjabNormal_1.featVecB))\n",
        "minCols = min(SMSDataObjNormal_1.minCols, SMSDataObjNormal_2.minCols, SMSDataObjabNormal_1.minCols, SMSDataObjabNormal_1.minCols, SMSDataObjabNormal_4.minCols)\n",
        "print('Minimum cols across the data is', minCols)"
      ],
      "execution_count": 163,
      "outputs": [
        {
          "output_type": "stream",
          "text": [
            "No of columns used 513\n",
            "Size of each axis (513, 256)\n",
            "Feature vector B looks like (513, 256, 3)\n",
            "Minimum cols across the data is 512\n"
          ],
          "name": "stdout"
        }
      ]
    },
    {
      "cell_type": "code",
      "metadata": {
        "id": "1Y-iYAKfIuaq",
        "colab_type": "code",
        "colab": {
          "base_uri": "https://localhost:8080/",
          "height": 34
        },
        "outputId": "e0b70d8d-3163-40d1-b78c-40a69e504273"
      },
      "source": [
        "# get data in x (input) and y (output)\n",
        "x = np.concatenate((SMSDataObjNormal_1.featVecB, SMSDataObjabNormal_1.featVecB, \n",
        "                    SMSDataObjNormal_2.featVecB, SMSDataObjabNormal_2.featVecB,\n",
        "                    SMSDataObjabNormal_4.featVecB, SMSDataObjNormal_5.featVecB))\n",
        "\n",
        "y = np.concatenate((SMSDataObjNormal_1.yData, SMSDataObjabNormal_1.yData, \n",
        "                    SMSDataObjNormal_2.yData, SMSDataObjabNormal_2.yData,\n",
        "                    SMSDataObjabNormal_4.yData, SMSDataObjNormal_5.yData))\n",
        "\n",
        "# now shuffle the data, it doesn't matter anymore if these appear in order \n",
        "shuffle_in_unison_scary(x, y)\n",
        "\n",
        "print(np.shape(x), np.shape(y))"
      ],
      "execution_count": 167,
      "outputs": [
        {
          "output_type": "stream",
          "text": [
            "(3078, 256, 3) (3078, 1)\n"
          ],
          "name": "stdout"
        }
      ]
    },
    {
      "cell_type": "code",
      "metadata": {
        "id": "jrHs9-0F_yMt",
        "colab_type": "code",
        "colab": {
          "base_uri": "https://localhost:8080/",
          "height": 119
        },
        "outputId": "2ab82a54-60d1-4281-cfea-299689226cc7"
      },
      "source": [
        "trainIdx = 2051\n",
        "validIdx = 2051\n",
        "testIdx = 2651\n",
        "endIdx = 3075\n",
        "# generate a dataset for training and testing\n",
        "# the DC component is dropped to eliminate huge value in the axis pointing downwards\n",
        "x[:, 0, 1] =0\n",
        "x_train = x[1:trainIdx, :, :]\n",
        "y_train = y[1:trainIdx, :]\n",
        "\n",
        "x_valid = x[validIdx:testIdx, :, :]\n",
        "y_valid = y[validIdx:testIdx, :]\n",
        "\n",
        "\n",
        "x_test = x[testIdx:endIdx, :, :]\n",
        "y_test = y[testIdx:endIdx, :]\n",
        "\n",
        "# check vector shape\n",
        "print(x_train.shape)\n",
        "print(y_train.shape)\n",
        "\n",
        "print(x_valid.shape)\n",
        "print(y_valid.shape)\n",
        "\n",
        "print(x_test.shape)\n",
        "print(y_test.shape)"
      ],
      "execution_count": 171,
      "outputs": [
        {
          "output_type": "stream",
          "text": [
            "(2050, 256, 3)\n",
            "(2050, 1)\n",
            "(600, 256, 3)\n",
            "(600, 1)\n",
            "(424, 256, 3)\n",
            "(424, 1)\n"
          ],
          "name": "stdout"
        }
      ]
    },
    {
      "cell_type": "code",
      "metadata": {
        "id": "_gOr5xmy9yNT",
        "colab_type": "code",
        "colab": {
          "base_uri": "https://localhost:8080/",
          "height": 1000
        },
        "outputId": "a3dd1b58-717f-4495-94e4-a5660f8fe499"
      },
      "source": [
        "# plot the data\n",
        "plt.plot(x_train[:, :, 2])\n",
        "plt.figure(1)\n",
        "print('Max of x, max of y, max of z', np.max(x_train[:,:,0]), np.max(x_train[:, :,1]), np.max(x_train[:,:,2]))\n",
        "plt.figure(2)\n",
        "plt.plot(x_train[:, 1:256 , 1])\n"
      ],
      "execution_count": 173,
      "outputs": [
        {
          "output_type": "stream",
          "text": [
            "Max of x, max of y, max of z 28.570807052391782 84.91832588029807 31.96464110935707\n"
          ],
          "name": "stdout"
        },
        {
          "output_type": "execute_result",
          "data": {
            "text/plain": [
              "[<matplotlib.lines.Line2D at 0x7f9400fa2a58>,\n",
              " <matplotlib.lines.Line2D at 0x7f9400fa2b70>,\n",
              " <matplotlib.lines.Line2D at 0x7f9400fa2cc0>,\n",
              " <matplotlib.lines.Line2D at 0x7f9400fa2e10>,\n",
              " <matplotlib.lines.Line2D at 0x7f9400fa2f60>,\n",
              " <matplotlib.lines.Line2D at 0x7f9400faf0f0>,\n",
              " <matplotlib.lines.Line2D at 0x7f9400faf240>,\n",
              " <matplotlib.lines.Line2D at 0x7f9400faf390>,\n",
              " <matplotlib.lines.Line2D at 0x7f9400faf4e0>,\n",
              " <matplotlib.lines.Line2D at 0x7f9400faf630>,\n",
              " <matplotlib.lines.Line2D at 0x7f9400ffd710>,\n",
              " <matplotlib.lines.Line2D at 0x7f9400faf898>,\n",
              " <matplotlib.lines.Line2D at 0x7f9400faf9e8>,\n",
              " <matplotlib.lines.Line2D at 0x7f9400fafb38>,\n",
              " <matplotlib.lines.Line2D at 0x7f9400fafc88>,\n",
              " <matplotlib.lines.Line2D at 0x7f9400fafdd8>,\n",
              " <matplotlib.lines.Line2D at 0x7f9400faff28>,\n",
              " <matplotlib.lines.Line2D at 0x7f9400fb30b8>,\n",
              " <matplotlib.lines.Line2D at 0x7f9400fb3208>,\n",
              " <matplotlib.lines.Line2D at 0x7f9400fb3358>,\n",
              " <matplotlib.lines.Line2D at 0x7f9400fb34a8>,\n",
              " <matplotlib.lines.Line2D at 0x7f9400fb35f8>,\n",
              " <matplotlib.lines.Line2D at 0x7f9400fb3748>,\n",
              " <matplotlib.lines.Line2D at 0x7f9400fb3898>,\n",
              " <matplotlib.lines.Line2D at 0x7f9400fb39e8>,\n",
              " <matplotlib.lines.Line2D at 0x7f9400fb3b38>,\n",
              " <matplotlib.lines.Line2D at 0x7f9400fb3c88>,\n",
              " <matplotlib.lines.Line2D at 0x7f9400fb3dd8>,\n",
              " <matplotlib.lines.Line2D at 0x7f9400fb3f28>,\n",
              " <matplotlib.lines.Line2D at 0x7f9400fb90b8>,\n",
              " <matplotlib.lines.Line2D at 0x7f9400fb9208>,\n",
              " <matplotlib.lines.Line2D at 0x7f9400fb9358>,\n",
              " <matplotlib.lines.Line2D at 0x7f9400fb94a8>,\n",
              " <matplotlib.lines.Line2D at 0x7f9400fb95f8>,\n",
              " <matplotlib.lines.Line2D at 0x7f9400fb9748>,\n",
              " <matplotlib.lines.Line2D at 0x7f9400fb9898>,\n",
              " <matplotlib.lines.Line2D at 0x7f9400fb99e8>,\n",
              " <matplotlib.lines.Line2D at 0x7f9400fb9b38>,\n",
              " <matplotlib.lines.Line2D at 0x7f9400fb9c88>,\n",
              " <matplotlib.lines.Line2D at 0x7f9400fb9dd8>,\n",
              " <matplotlib.lines.Line2D at 0x7f9400fb9f28>,\n",
              " <matplotlib.lines.Line2D at 0x7f9400fbd0b8>,\n",
              " <matplotlib.lines.Line2D at 0x7f9400fbd208>,\n",
              " <matplotlib.lines.Line2D at 0x7f9400fbd358>,\n",
              " <matplotlib.lines.Line2D at 0x7f9400fbd4a8>,\n",
              " <matplotlib.lines.Line2D at 0x7f9400fbd5f8>,\n",
              " <matplotlib.lines.Line2D at 0x7f9400fbd748>,\n",
              " <matplotlib.lines.Line2D at 0x7f9400fbd898>,\n",
              " <matplotlib.lines.Line2D at 0x7f9400fbd9e8>,\n",
              " <matplotlib.lines.Line2D at 0x7f9400fbdb38>,\n",
              " <matplotlib.lines.Line2D at 0x7f9400fbdc88>,\n",
              " <matplotlib.lines.Line2D at 0x7f9400fbddd8>,\n",
              " <matplotlib.lines.Line2D at 0x7f9400fbdf28>,\n",
              " <matplotlib.lines.Line2D at 0x7f9400fc20b8>,\n",
              " <matplotlib.lines.Line2D at 0x7f9400fc2208>,\n",
              " <matplotlib.lines.Line2D at 0x7f9400fc2358>,\n",
              " <matplotlib.lines.Line2D at 0x7f9400fc24a8>,\n",
              " <matplotlib.lines.Line2D at 0x7f9400fc25f8>,\n",
              " <matplotlib.lines.Line2D at 0x7f9400fc2748>,\n",
              " <matplotlib.lines.Line2D at 0x7f9400fc2898>,\n",
              " <matplotlib.lines.Line2D at 0x7f9400fc29e8>,\n",
              " <matplotlib.lines.Line2D at 0x7f9400fc2b38>,\n",
              " <matplotlib.lines.Line2D at 0x7f9400fc2c88>,\n",
              " <matplotlib.lines.Line2D at 0x7f9400fc2dd8>,\n",
              " <matplotlib.lines.Line2D at 0x7f9400fc2f28>,\n",
              " <matplotlib.lines.Line2D at 0x7f9400fc90b8>,\n",
              " <matplotlib.lines.Line2D at 0x7f9400fc9208>,\n",
              " <matplotlib.lines.Line2D at 0x7f9400fc9358>,\n",
              " <matplotlib.lines.Line2D at 0x7f9400fc94a8>,\n",
              " <matplotlib.lines.Line2D at 0x7f9400fc95f8>,\n",
              " <matplotlib.lines.Line2D at 0x7f9400fc9748>,\n",
              " <matplotlib.lines.Line2D at 0x7f9400fc9898>,\n",
              " <matplotlib.lines.Line2D at 0x7f9400fc99e8>,\n",
              " <matplotlib.lines.Line2D at 0x7f9400fc9b38>,\n",
              " <matplotlib.lines.Line2D at 0x7f9400fc9c88>,\n",
              " <matplotlib.lines.Line2D at 0x7f9400fc9dd8>,\n",
              " <matplotlib.lines.Line2D at 0x7f9400fc9f28>,\n",
              " <matplotlib.lines.Line2D at 0x7f9400fcd0b8>,\n",
              " <matplotlib.lines.Line2D at 0x7f9400fcd208>,\n",
              " <matplotlib.lines.Line2D at 0x7f9400fcd358>,\n",
              " <matplotlib.lines.Line2D at 0x7f9400fcd4a8>,\n",
              " <matplotlib.lines.Line2D at 0x7f9400fcd5f8>,\n",
              " <matplotlib.lines.Line2D at 0x7f9400fcd748>,\n",
              " <matplotlib.lines.Line2D at 0x7f9400fcd898>,\n",
              " <matplotlib.lines.Line2D at 0x7f9400fcd9e8>,\n",
              " <matplotlib.lines.Line2D at 0x7f9400fcdb38>,\n",
              " <matplotlib.lines.Line2D at 0x7f9400fcdc88>,\n",
              " <matplotlib.lines.Line2D at 0x7f9400fcddd8>,\n",
              " <matplotlib.lines.Line2D at 0x7f9400fcdf28>,\n",
              " <matplotlib.lines.Line2D at 0x7f9400fd20b8>,\n",
              " <matplotlib.lines.Line2D at 0x7f9400fd2208>,\n",
              " <matplotlib.lines.Line2D at 0x7f9400fd2358>,\n",
              " <matplotlib.lines.Line2D at 0x7f9400fd24a8>,\n",
              " <matplotlib.lines.Line2D at 0x7f9400fd25f8>,\n",
              " <matplotlib.lines.Line2D at 0x7f9400fd2748>,\n",
              " <matplotlib.lines.Line2D at 0x7f9400fd2898>,\n",
              " <matplotlib.lines.Line2D at 0x7f9400fd29e8>,\n",
              " <matplotlib.lines.Line2D at 0x7f9400fd2b38>,\n",
              " <matplotlib.lines.Line2D at 0x7f9400fd2c88>,\n",
              " <matplotlib.lines.Line2D at 0x7f9400fd2dd8>,\n",
              " <matplotlib.lines.Line2D at 0x7f9400fd2f28>,\n",
              " <matplotlib.lines.Line2D at 0x7f9400f560b8>,\n",
              " <matplotlib.lines.Line2D at 0x7f9400f56208>,\n",
              " <matplotlib.lines.Line2D at 0x7f9400f56358>,\n",
              " <matplotlib.lines.Line2D at 0x7f9400f564a8>,\n",
              " <matplotlib.lines.Line2D at 0x7f9400f565f8>,\n",
              " <matplotlib.lines.Line2D at 0x7f9400f56748>,\n",
              " <matplotlib.lines.Line2D at 0x7f9400f56898>,\n",
              " <matplotlib.lines.Line2D at 0x7f9400f569e8>,\n",
              " <matplotlib.lines.Line2D at 0x7f9400f56b38>,\n",
              " <matplotlib.lines.Line2D at 0x7f9400f56c88>,\n",
              " <matplotlib.lines.Line2D at 0x7f9400f56dd8>,\n",
              " <matplotlib.lines.Line2D at 0x7f9400f56f28>,\n",
              " <matplotlib.lines.Line2D at 0x7f9400f5d0b8>,\n",
              " <matplotlib.lines.Line2D at 0x7f9400f5d208>,\n",
              " <matplotlib.lines.Line2D at 0x7f9400f5d358>,\n",
              " <matplotlib.lines.Line2D at 0x7f9400f5d4a8>,\n",
              " <matplotlib.lines.Line2D at 0x7f9400f5d5f8>,\n",
              " <matplotlib.lines.Line2D at 0x7f9400f5d748>,\n",
              " <matplotlib.lines.Line2D at 0x7f9400f5d898>,\n",
              " <matplotlib.lines.Line2D at 0x7f9400f5d9e8>,\n",
              " <matplotlib.lines.Line2D at 0x7f9400f5db38>,\n",
              " <matplotlib.lines.Line2D at 0x7f9400f5dc88>,\n",
              " <matplotlib.lines.Line2D at 0x7f9400f5ddd8>,\n",
              " <matplotlib.lines.Line2D at 0x7f9400f5df28>,\n",
              " <matplotlib.lines.Line2D at 0x7f9400f610b8>,\n",
              " <matplotlib.lines.Line2D at 0x7f9400f61208>,\n",
              " <matplotlib.lines.Line2D at 0x7f9400f61358>,\n",
              " <matplotlib.lines.Line2D at 0x7f9400f614a8>,\n",
              " <matplotlib.lines.Line2D at 0x7f9400f615f8>,\n",
              " <matplotlib.lines.Line2D at 0x7f9400f61748>,\n",
              " <matplotlib.lines.Line2D at 0x7f9400f61898>,\n",
              " <matplotlib.lines.Line2D at 0x7f9400f619e8>,\n",
              " <matplotlib.lines.Line2D at 0x7f9400f61b38>,\n",
              " <matplotlib.lines.Line2D at 0x7f9400f61c88>,\n",
              " <matplotlib.lines.Line2D at 0x7f9400f61dd8>,\n",
              " <matplotlib.lines.Line2D at 0x7f9400f61f28>,\n",
              " <matplotlib.lines.Line2D at 0x7f9400f660b8>,\n",
              " <matplotlib.lines.Line2D at 0x7f9400f66208>,\n",
              " <matplotlib.lines.Line2D at 0x7f9400f66358>,\n",
              " <matplotlib.lines.Line2D at 0x7f9400f664a8>,\n",
              " <matplotlib.lines.Line2D at 0x7f9400f665f8>,\n",
              " <matplotlib.lines.Line2D at 0x7f9400f66748>,\n",
              " <matplotlib.lines.Line2D at 0x7f9400f66898>,\n",
              " <matplotlib.lines.Line2D at 0x7f9400f669e8>,\n",
              " <matplotlib.lines.Line2D at 0x7f9400f66b38>,\n",
              " <matplotlib.lines.Line2D at 0x7f9400f66c88>,\n",
              " <matplotlib.lines.Line2D at 0x7f9400f66dd8>,\n",
              " <matplotlib.lines.Line2D at 0x7f9400f66f28>,\n",
              " <matplotlib.lines.Line2D at 0x7f9400f6b0b8>,\n",
              " <matplotlib.lines.Line2D at 0x7f9400f6b208>,\n",
              " <matplotlib.lines.Line2D at 0x7f9400f6b358>,\n",
              " <matplotlib.lines.Line2D at 0x7f9400f6b4a8>,\n",
              " <matplotlib.lines.Line2D at 0x7f9400f6b5f8>,\n",
              " <matplotlib.lines.Line2D at 0x7f9400f6b748>,\n",
              " <matplotlib.lines.Line2D at 0x7f9400f6b898>,\n",
              " <matplotlib.lines.Line2D at 0x7f9400f6b9e8>,\n",
              " <matplotlib.lines.Line2D at 0x7f9400f6bb38>,\n",
              " <matplotlib.lines.Line2D at 0x7f9400f6bc88>,\n",
              " <matplotlib.lines.Line2D at 0x7f9400f6bdd8>,\n",
              " <matplotlib.lines.Line2D at 0x7f9400f6bf28>,\n",
              " <matplotlib.lines.Line2D at 0x7f9400f710b8>,\n",
              " <matplotlib.lines.Line2D at 0x7f9400f71208>,\n",
              " <matplotlib.lines.Line2D at 0x7f9400f71358>,\n",
              " <matplotlib.lines.Line2D at 0x7f9400f714a8>,\n",
              " <matplotlib.lines.Line2D at 0x7f9400f715f8>,\n",
              " <matplotlib.lines.Line2D at 0x7f9400f71748>,\n",
              " <matplotlib.lines.Line2D at 0x7f9400f71898>,\n",
              " <matplotlib.lines.Line2D at 0x7f9400f719e8>,\n",
              " <matplotlib.lines.Line2D at 0x7f9400f71b38>,\n",
              " <matplotlib.lines.Line2D at 0x7f9400f71c88>,\n",
              " <matplotlib.lines.Line2D at 0x7f9400f71dd8>,\n",
              " <matplotlib.lines.Line2D at 0x7f9400f71f28>,\n",
              " <matplotlib.lines.Line2D at 0x7f9400f760b8>,\n",
              " <matplotlib.lines.Line2D at 0x7f9400f76208>,\n",
              " <matplotlib.lines.Line2D at 0x7f9400f76358>,\n",
              " <matplotlib.lines.Line2D at 0x7f9400f764a8>,\n",
              " <matplotlib.lines.Line2D at 0x7f9400f765f8>,\n",
              " <matplotlib.lines.Line2D at 0x7f9400f76748>,\n",
              " <matplotlib.lines.Line2D at 0x7f9400f76898>,\n",
              " <matplotlib.lines.Line2D at 0x7f9400f769e8>,\n",
              " <matplotlib.lines.Line2D at 0x7f9400f76b38>,\n",
              " <matplotlib.lines.Line2D at 0x7f9400f76c88>,\n",
              " <matplotlib.lines.Line2D at 0x7f9400f76dd8>,\n",
              " <matplotlib.lines.Line2D at 0x7f9400f76f28>,\n",
              " <matplotlib.lines.Line2D at 0x7f9400f7b0b8>,\n",
              " <matplotlib.lines.Line2D at 0x7f9400f7b208>,\n",
              " <matplotlib.lines.Line2D at 0x7f9400f7b358>,\n",
              " <matplotlib.lines.Line2D at 0x7f9400f7b4a8>,\n",
              " <matplotlib.lines.Line2D at 0x7f9400f7b5f8>,\n",
              " <matplotlib.lines.Line2D at 0x7f9400f7b748>,\n",
              " <matplotlib.lines.Line2D at 0x7f9400f7b898>,\n",
              " <matplotlib.lines.Line2D at 0x7f9400f7b9e8>,\n",
              " <matplotlib.lines.Line2D at 0x7f9400f7bb38>,\n",
              " <matplotlib.lines.Line2D at 0x7f9400f7bc88>,\n",
              " <matplotlib.lines.Line2D at 0x7f9400f7bdd8>,\n",
              " <matplotlib.lines.Line2D at 0x7f9400f7bf28>,\n",
              " <matplotlib.lines.Line2D at 0x7f9400f800b8>,\n",
              " <matplotlib.lines.Line2D at 0x7f9400f80208>,\n",
              " <matplotlib.lines.Line2D at 0x7f9400f80358>,\n",
              " <matplotlib.lines.Line2D at 0x7f9400f804a8>,\n",
              " <matplotlib.lines.Line2D at 0x7f9400f805f8>,\n",
              " <matplotlib.lines.Line2D at 0x7f9400f80748>,\n",
              " <matplotlib.lines.Line2D at 0x7f9400f80898>,\n",
              " <matplotlib.lines.Line2D at 0x7f9400f809e8>,\n",
              " <matplotlib.lines.Line2D at 0x7f9400f80b38>,\n",
              " <matplotlib.lines.Line2D at 0x7f9400f80c88>,\n",
              " <matplotlib.lines.Line2D at 0x7f9400f80dd8>,\n",
              " <matplotlib.lines.Line2D at 0x7f9400f80f28>,\n",
              " <matplotlib.lines.Line2D at 0x7f9400f860b8>,\n",
              " <matplotlib.lines.Line2D at 0x7f9400f86208>,\n",
              " <matplotlib.lines.Line2D at 0x7f9400f86358>,\n",
              " <matplotlib.lines.Line2D at 0x7f9400f864a8>,\n",
              " <matplotlib.lines.Line2D at 0x7f9400f865f8>,\n",
              " <matplotlib.lines.Line2D at 0x7f9400f86748>,\n",
              " <matplotlib.lines.Line2D at 0x7f9400f86898>,\n",
              " <matplotlib.lines.Line2D at 0x7f9400f869e8>,\n",
              " <matplotlib.lines.Line2D at 0x7f9400f86b38>,\n",
              " <matplotlib.lines.Line2D at 0x7f9400f86c88>,\n",
              " <matplotlib.lines.Line2D at 0x7f9400f86dd8>,\n",
              " <matplotlib.lines.Line2D at 0x7f9400f86f28>,\n",
              " <matplotlib.lines.Line2D at 0x7f9400f8a0b8>,\n",
              " <matplotlib.lines.Line2D at 0x7f9400f8a208>,\n",
              " <matplotlib.lines.Line2D at 0x7f9400f8a358>,\n",
              " <matplotlib.lines.Line2D at 0x7f9400f8a4a8>,\n",
              " <matplotlib.lines.Line2D at 0x7f9400f8a5f8>,\n",
              " <matplotlib.lines.Line2D at 0x7f9400f8a748>,\n",
              " <matplotlib.lines.Line2D at 0x7f9400f8a898>,\n",
              " <matplotlib.lines.Line2D at 0x7f9400f8a9e8>,\n",
              " <matplotlib.lines.Line2D at 0x7f9400f8ab38>,\n",
              " <matplotlib.lines.Line2D at 0x7f9400f8ac88>,\n",
              " <matplotlib.lines.Line2D at 0x7f9400f8add8>,\n",
              " <matplotlib.lines.Line2D at 0x7f9400f8af28>,\n",
              " <matplotlib.lines.Line2D at 0x7f9400f900b8>,\n",
              " <matplotlib.lines.Line2D at 0x7f9400f90208>,\n",
              " <matplotlib.lines.Line2D at 0x7f9400f90358>,\n",
              " <matplotlib.lines.Line2D at 0x7f9400f904a8>,\n",
              " <matplotlib.lines.Line2D at 0x7f9400f905f8>,\n",
              " <matplotlib.lines.Line2D at 0x7f9400f90748>,\n",
              " <matplotlib.lines.Line2D at 0x7f9400f90898>,\n",
              " <matplotlib.lines.Line2D at 0x7f9400f909e8>,\n",
              " <matplotlib.lines.Line2D at 0x7f9400f90b38>,\n",
              " <matplotlib.lines.Line2D at 0x7f9400f90c88>,\n",
              " <matplotlib.lines.Line2D at 0x7f9400f90dd8>,\n",
              " <matplotlib.lines.Line2D at 0x7f9400f90f28>,\n",
              " <matplotlib.lines.Line2D at 0x7f9400f940b8>,\n",
              " <matplotlib.lines.Line2D at 0x7f9400f94208>,\n",
              " <matplotlib.lines.Line2D at 0x7f9400f94358>,\n",
              " <matplotlib.lines.Line2D at 0x7f9400f944a8>,\n",
              " <matplotlib.lines.Line2D at 0x7f9400f945f8>,\n",
              " <matplotlib.lines.Line2D at 0x7f9400f94748>,\n",
              " <matplotlib.lines.Line2D at 0x7f9400f94898>,\n",
              " <matplotlib.lines.Line2D at 0x7f9400f949e8>,\n",
              " <matplotlib.lines.Line2D at 0x7f9400f94b38>,\n",
              " <matplotlib.lines.Line2D at 0x7f9400f94c88>]"
            ]
          },
          "metadata": {
            "tags": []
          },
          "execution_count": 173
        },
        {
          "output_type": "display_data",
          "data": {
            "image/png": "[encoded data removed]",
            "text/plain": [
              "<Figure size 432x288 with 1 Axes>"
            ]
          },
          "metadata": {
            "tags": [],
            "needs_background": "light"
          }
        },
        {
          "output_type": "display_data",
          "data": {
            "image/png": "[encoded data removed]",
            "text/plain": [
              "<Figure size 432x288 with 1 Axes>"
            ]
          },
          "metadata": {
            "tags": [],
            "needs_background": "light"
          }
        }
      ]
    },
    {
      "cell_type": "code",
      "metadata": {
        "id": "aqfmDM63GJqf",
        "colab_type": "code",
        "colab": {
          "base_uri": "https://localhost:8080/",
          "height": 85
        },
        "outputId": "4f7dce58-8c19-422e-831a-875a81d25a4b"
      },
      "source": [
        "# check vector shape\n",
        "print(x_train.shape)\n",
        "print(y_train.shape)\n",
        "\n",
        "print(x_test.shape)\n",
        "print(y_test.shape)\n"
      ],
      "execution_count": 174,
      "outputs": [
        {
          "output_type": "stream",
          "text": [
            "(2050, 256, 3)\n",
            "(2050, 1)\n",
            "(424, 256, 3)\n",
            "(424, 1)\n"
          ],
          "name": "stdout"
        }
      ]
    },
    {
      "cell_type": "code",
      "metadata": {
        "id": "xJR7yZe6qNnf",
        "colab_type": "code",
        "colab": {}
      },
      "source": [
        "# time to try NN\n",
        "\n",
        "# model\n",
        "model = tf.keras.models.Sequential([\n",
        "  tf.keras.layers.Flatten(input_shape=(256, 3)),\n",
        "  tf.keras.layers.Dense(64, activation='relu'),\n",
        "  tf.keras.layers.Dropout(0.2),\n",
        "  tf.keras.layers.Dense(2)\n",
        "])\n",
        "\n",
        "# loss function\n",
        "loss_fn = tf.keras.losses.SparseCategoricalCrossentropy(from_logits=True)\n",
        "\n",
        "# settings\n",
        "model.compile(optimizer='adam',\n",
        "              loss=loss_fn,\n",
        "              metrics=['accuracy'])\n",
        "#model.compile(optimizer='rmsprop', loss='mse', metrics=['mae'])"
      ],
      "execution_count": 175,
      "outputs": []
    },
    {
      "cell_type": "code",
      "metadata": {
        "id": "GrcMPIasqoGF",
        "colab_type": "code",
        "colab": {
          "base_uri": "https://localhost:8080/",
          "height": 867
        },
        "outputId": "a90c9c05-788d-4db7-90c3-bdd03a541306"
      },
      "source": [
        "# train the dog\n",
        "#trgHist = model.fit(x_train, y_train, epochs=25, batch_size=16, validation_data=(x_valid, y_valid))\n",
        "trgHist = model.fit(x_train, y_train, epochs=25, validation_data=(x_valid, y_valid))"
      ],
      "execution_count": 176,
      "outputs": [
        {
          "output_type": "stream",
          "text": [
            "Epoch 1/25\n",
            "65/65 [==============================] - 0s 3ms/step - loss: 0.3478 - accuracy: 0.8400 - val_loss: 0.1574 - val_accuracy: 0.9467\n",
            "Epoch 2/25\n",
            "65/65 [==============================] - 0s 2ms/step - loss: 0.1326 - accuracy: 0.9517 - val_loss: 0.1097 - val_accuracy: 0.9600\n",
            "Epoch 3/25\n",
            "65/65 [==============================] - 0s 2ms/step - loss: 0.0794 - accuracy: 0.9746 - val_loss: 0.0967 - val_accuracy: 0.9700\n",
            "Epoch 4/25\n",
            "65/65 [==============================] - 0s 2ms/step - loss: 0.0531 - accuracy: 0.9863 - val_loss: 0.0776 - val_accuracy: 0.9683\n",
            "Epoch 5/25\n",
            "65/65 [==============================] - 0s 2ms/step - loss: 0.0399 - accuracy: 0.9898 - val_loss: 0.0795 - val_accuracy: 0.9633\n",
            "Epoch 6/25\n",
            "65/65 [==============================] - 0s 2ms/step - loss: 0.0302 - accuracy: 0.9917 - val_loss: 0.0724 - val_accuracy: 0.9683\n",
            "Epoch 7/25\n",
            "65/65 [==============================] - 0s 2ms/step - loss: 0.0227 - accuracy: 0.9941 - val_loss: 0.0762 - val_accuracy: 0.9633\n",
            "Epoch 8/25\n",
            "65/65 [==============================] - 0s 3ms/step - loss: 0.0289 - accuracy: 0.9873 - val_loss: 0.0825 - val_accuracy: 0.9700\n",
            "Epoch 9/25\n",
            "65/65 [==============================] - 0s 3ms/step - loss: 0.0195 - accuracy: 0.9951 - val_loss: 0.0671 - val_accuracy: 0.9733\n",
            "Epoch 10/25\n",
            "65/65 [==============================] - 0s 3ms/step - loss: 0.0164 - accuracy: 0.9956 - val_loss: 0.0671 - val_accuracy: 0.9683\n",
            "Epoch 11/25\n",
            "65/65 [==============================] - 0s 2ms/step - loss: 0.0140 - accuracy: 0.9966 - val_loss: 0.0805 - val_accuracy: 0.9683\n",
            "Epoch 12/25\n",
            "65/65 [==============================] - 0s 2ms/step - loss: 0.0124 - accuracy: 0.9971 - val_loss: 0.0681 - val_accuracy: 0.9650\n",
            "Epoch 13/25\n",
            "65/65 [==============================] - 0s 2ms/step - loss: 0.0121 - accuracy: 0.9966 - val_loss: 0.0666 - val_accuracy: 0.9667\n",
            "Epoch 14/25\n",
            "65/65 [==============================] - 0s 2ms/step - loss: 0.0123 - accuracy: 0.9951 - val_loss: 0.0702 - val_accuracy: 0.9633\n",
            "Epoch 15/25\n",
            "65/65 [==============================] - 0s 2ms/step - loss: 0.0113 - accuracy: 0.9966 - val_loss: 0.0694 - val_accuracy: 0.9667\n",
            "Epoch 16/25\n",
            "65/65 [==============================] - 0s 2ms/step - loss: 0.0113 - accuracy: 0.9961 - val_loss: 0.0658 - val_accuracy: 0.9733\n",
            "Epoch 17/25\n",
            "65/65 [==============================] - 0s 3ms/step - loss: 0.0123 - accuracy: 0.9951 - val_loss: 0.0681 - val_accuracy: 0.9667\n",
            "Epoch 18/25\n",
            "65/65 [==============================] - 0s 2ms/step - loss: 0.0098 - accuracy: 0.9966 - val_loss: 0.0678 - val_accuracy: 0.9733\n",
            "Epoch 19/25\n",
            "65/65 [==============================] - 0s 2ms/step - loss: 0.0097 - accuracy: 0.9971 - val_loss: 0.0671 - val_accuracy: 0.9700\n",
            "Epoch 20/25\n",
            "65/65 [==============================] - 0s 2ms/step - loss: 0.0097 - accuracy: 0.9956 - val_loss: 0.0663 - val_accuracy: 0.9717\n",
            "Epoch 21/25\n",
            "65/65 [==============================] - 0s 2ms/step - loss: 0.0104 - accuracy: 0.9966 - val_loss: 0.0719 - val_accuracy: 0.9717\n",
            "Epoch 22/25\n",
            "65/65 [==============================] - 0s 2ms/step - loss: 0.0081 - accuracy: 0.9966 - val_loss: 0.0642 - val_accuracy: 0.9750\n",
            "Epoch 23/25\n",
            "65/65 [==============================] - 0s 2ms/step - loss: 0.0086 - accuracy: 0.9966 - val_loss: 0.0721 - val_accuracy: 0.9750\n",
            "Epoch 24/25\n",
            "65/65 [==============================] - 0s 2ms/step - loss: 0.0096 - accuracy: 0.9966 - val_loss: 0.0664 - val_accuracy: 0.9750\n",
            "Epoch 25/25\n",
            "65/65 [==============================] - 0s 2ms/step - loss: 0.0095 - accuracy: 0.9956 - val_loss: 0.0680 - val_accuracy: 0.9683\n"
          ],
          "name": "stdout"
        }
      ]
    },
    {
      "cell_type": "code",
      "metadata": {
        "id": "PrBRx5zf75R5",
        "colab_type": "code",
        "colab": {}
      },
      "source": [
        "# plot\n"
      ],
      "execution_count": null,
      "outputs": []
    },
    {
      "cell_type": "code",
      "metadata": {
        "id": "-Q0adDX1q64f",
        "colab_type": "code",
        "colab": {
          "base_uri": "https://localhost:8080/",
          "height": 51
        },
        "outputId": "cfff213e-91df-4b37-835a-ab663f12ef6b"
      },
      "source": [
        "# ask him to perform tricks\n",
        "model.evaluate(x_test[1:400],  y_test[1:400], verbose=2)"
      ],
      "execution_count": 177,
      "outputs": [
        {
          "output_type": "stream",
          "text": [
            "13/13 - 0s - loss: 0.0775 - accuracy: 0.9749\n"
          ],
          "name": "stdout"
        },
        {
          "output_type": "execute_result",
          "data": {
            "text/plain": [
              "[0.07750463485717773, 0.9749373197555542]"
            ]
          },
          "metadata": {
            "tags": []
          },
          "execution_count": 177
        }
      ]
    },
    {
      "cell_type": "code",
      "metadata": {
        "id": "y8ufej2rrxAT",
        "colab_type": "code",
        "colab": {
          "base_uri": "https://localhost:8080/",
          "height": 68
        },
        "outputId": "8ceaf40c-fbea-46a7-9d94-3a73df377821"
      },
      "source": [
        "# what's the probability?\n",
        "probability_model = tf.keras.Sequential([\n",
        "  model,\n",
        "  tf.keras.layers.Softmax()\n",
        "])\n",
        "\n",
        "probability_model(x_test[1:3])"
      ],
      "execution_count": 153,
      "outputs": [
        {
          "output_type": "execute_result",
          "data": {
            "text/plain": [
              "<tf.Tensor: shape=(2, 2), dtype=float32, numpy=\n",
              "array([[1.0000000e+00, 9.5147978e-10],\n",
              "       [1.0178229e-07, 9.9999988e-01]], dtype=float32)>"
            ]
          },
          "metadata": {
            "tags": []
          },
          "execution_count": 153
        }
      ]
    },
    {
      "cell_type": "code",
      "metadata": {
        "id": "lX4fkqCssdCS",
        "colab_type": "code",
        "colab": {
          "base_uri": "https://localhost:8080/",
          "height": 34
        },
        "outputId": "4f0e3baa-d5a1-4343-9093-04548229300a"
      },
      "source": [
        "predictNow = model(x_test[120:121]).numpy()\n",
        "predictNow"
      ],
      "execution_count": 116,
      "outputs": [
        {
          "output_type": "execute_result",
          "data": {
            "text/plain": [
              "array([[-2.6798193, -4.1256447]], dtype=float32)"
            ]
          },
          "metadata": {
            "tags": []
          },
          "execution_count": 116
        }
      ]
    },
    {
      "cell_type": "code",
      "metadata": {
        "id": "I_WdkDAfAgC6",
        "colab_type": "code",
        "colab": {
          "base_uri": "https://localhost:8080/",
          "height": 51
        },
        "outputId": "fd4701f3-c5e6-4594-f5e1-e3fd0e11e7c1"
      },
      "source": [
        "SMSDataObjNormal_3 = SMSData(\"/content/sample_data/normal_3HP_6dB_Fan.json\", 0)\n",
        "print('Feature vector B looks like', np.shape(SMSDataObjNormal_3.featVecB))\n",
        "x_test_a = SMSDataObjNormal_3.featVecB[1:trainIdx, :, :]\n",
        "y_test_a = SMSDataObjNormal_3.yData[1:trainIdx, :]\n",
        "x_test_ab[:, 0, 1] =0\n",
        "print(np.shape(x_test_a), np.shape(y_test_a))                          "
      ],
      "execution_count": 188,
      "outputs": [
        {
          "output_type": "stream",
          "text": [
            "Feature vector B looks like (512, 256, 3)\n",
            "(511, 256, 3) (511, 1)\n"
          ],
          "name": "stdout"
        }
      ]
    },
    {
      "cell_type": "code",
      "metadata": {
        "id": "MpDVLOhNBS0B",
        "colab_type": "code",
        "colab": {
          "base_uri": "https://localhost:8080/",
          "height": 51
        },
        "outputId": "7e436eb1-9dd1-453d-d598-b17e5ab97d51"
      },
      "source": [
        "model.evaluate(x_test_a,  y_test_a, verbose=2)"
      ],
      "execution_count": 189,
      "outputs": [
        {
          "output_type": "stream",
          "text": [
            "16/16 - 0s - loss: 0.0094 - accuracy: 0.9941\n"
          ],
          "name": "stdout"
        },
        {
          "output_type": "execute_result",
          "data": {
            "text/plain": [
              "[0.009401150979101658, 0.9941291809082031]"
            ]
          },
          "metadata": {
            "tags": []
          },
          "execution_count": 189
        }
      ]
    },
    {
      "cell_type": "code",
      "metadata": {
        "id": "7oOnu63dHW_v",
        "colab_type": "code",
        "colab": {
          "base_uri": "https://localhost:8080/",
          "height": 51
        },
        "outputId": "2a40b8c6-da3c-4dfc-8a21-9ba7948ec86f"
      },
      "source": [
        "SMSDataObjabNormal_3 = SMSData(\"/content/sample_data/abnormal_3HP_6dB_Fan.json\", 1)\n",
        "print('Feature vector B looks like', np.shape(SMSDataObjabNormal_3.featVecB))\n",
        "x_test_ab = SMSDataObjabNormal_3.featVecB[1:trainIdx, :, :]\n",
        "y_test_ab = SMSDataObjabNormal_3.yData[1:trainIdx, :]\n",
        "x_test_ab[:, 0, 1] =0\n",
        "print(np.shape(x_test_ab), np.shape(y_test_ab))   "
      ],
      "execution_count": 184,
      "outputs": [
        {
          "output_type": "stream",
          "text": [
            "Feature vector B looks like (513, 256, 3)\n",
            "(512, 256, 3) (512, 1)\n"
          ],
          "name": "stdout"
        }
      ]
    },
    {
      "cell_type": "code",
      "metadata": {
        "id": "pH_DjWKaHtS0",
        "colab_type": "code",
        "colab": {
          "base_uri": "https://localhost:8080/",
          "height": 51
        },
        "outputId": "6ada0f90-0fb6-42ff-a6f4-9b1a8b534812"
      },
      "source": [
        "model.evaluate(x_test_ab,  y_test_ab, verbose=2)"
      ],
      "execution_count": 185,
      "outputs": [
        {
          "output_type": "stream",
          "text": [
            "16/16 - 0s - loss: 2.3763 - accuracy: 0.7402\n"
          ],
          "name": "stdout"
        },
        {
          "output_type": "execute_result",
          "data": {
            "text/plain": [
              "[2.3762824535369873, 0.740234375]"
            ]
          },
          "metadata": {
            "tags": []
          },
          "execution_count": 185
        }
      ]
    },
    {
      "cell_type": "code",
      "metadata": {
        "id": "iRV76GHYv9oO",
        "colab_type": "code",
        "colab": {
          "base_uri": "https://localhost:8080/",
          "height": 51
        },
        "outputId": "a664eace-4315-40d8-f9aa-3440458a31ca"
      },
      "source": [
        "SMSDataObjNormal_4 = SMSData(\"/content/sample_data/normal_4HP_6dB_Fan.json\", 0)\n",
        "print('Feature vector B looks like', np.shape(SMSDataObjNormal_4.featVecB))\n",
        "x_test_ab = SMSDataObjNormal_4.featVecB[1:trainIdx, :, :]\n",
        "y_test_ab = SMSDataObjNormal_4.yData[1:trainIdx, :]\n",
        "x_test_ab[:, 0, 1] =0\n",
        "print(np.shape(x_test_ab), np.shape(y_test_ab))  "
      ],
      "execution_count": 186,
      "outputs": [
        {
          "output_type": "stream",
          "text": [
            "Feature vector B looks like (513, 256, 3)\n",
            "(512, 256, 3) (512, 1)\n"
          ],
          "name": "stdout"
        }
      ]
    },
    {
      "cell_type": "code",
      "metadata": {
        "id": "XaRV-wQGwJH1",
        "colab_type": "code",
        "colab": {
          "base_uri": "https://localhost:8080/",
          "height": 51
        },
        "outputId": "eed45954-6939-4a00-bdb9-4aa3f53721ee"
      },
      "source": [
        "model.evaluate(x_test_ab,  y_test_ab, verbose=2)"
      ],
      "execution_count": 187,
      "outputs": [
        {
          "output_type": "stream",
          "text": [
            "16/16 - 0s - loss: 0.1716 - accuracy: 0.9609\n"
          ],
          "name": "stdout"
        },
        {
          "output_type": "execute_result",
          "data": {
            "text/plain": [
              "[0.17163285613059998, 0.9609375]"
            ]
          },
          "metadata": {
            "tags": []
          },
          "execution_count": 187
        }
      ]
    }
  ]
}