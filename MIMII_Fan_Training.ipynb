{
  "nbformat": 4,
  "nbformat_minor": 0,
  "metadata": {
    "colab": {
      "name": "MIMII-Fan-Training.ipynb",
      "provenance": [],
      "collapsed_sections": [],
      "authorship_tag": "ABX9TyPvL/31+3H7vBUENWX7AwTt",
      "include_colab_link": true
    },
    "kernelspec": {
      "name": "python3",
      "display_name": "Python 3"
    }
  },
  "cells": [
    {
      "cell_type": "markdown",
      "metadata": {
        "id": "view-in-github",
        "colab_type": "text"
      },
      "source": [
        "<a href=\"https://colab.research.google.com/github/Balrog16/Test/blob/master/MIMII_Fan_Training.ipynb\" target=\"_parent\"><img src=\"https://colab.research.google.com/assets/colab-badge.svg\" alt=\"Open In Colab\"/></a>"
      ]
    },
    {
      "cell_type": "markdown",
      "metadata": {
        "id": "gEQYB-AbQ_WU",
        "colab_type": "text"
      },
      "source": [
        "**Background**\n",
        "\n",
        "Fan audio data from MIMII database is played after combining a few files randomly to form two audio records - normal and abnormal, each lasting for 520 sec. This data is played on JBL Go speaker with SITRANS-MS placed in the middle of the speaker. This arrangement is to vibrate the sensor and obtain the stream via BLE using MATLAB scripts. There are two sets of JSON files each for Normal audio and abnormal audio data.\n"
      ]
    },
    {
      "cell_type": "code",
      "metadata": {
        "id": "1aZy_2ifR7j7",
        "colab_type": "code",
        "colab": {}
      },
      "source": [
        "# all imports\n",
        "import json\n",
        "import numpy as np\n",
        "import tensorflow as tf\n",
        "from numpy import savetxt\n",
        "import matplotlib.pyplot as plt"
      ],
      "execution_count": 1,
      "outputs": []
    },
    {
      "cell_type": "code",
      "metadata": {
        "id": "C-ut8C9wGmyY",
        "colab_type": "code",
        "colab": {}
      },
      "source": [
        "# code to shuffle \n",
        "# due credits to Josh Bleecher Snyder\n",
        "# https://stackoverflow.com/questions/4601373/better-way-to-shuffle-two-numpy-arrays-in-unison\n",
        "def shuffle_in_unison_scary(a, b):\n",
        "    rng_state = np.random.get_state()\n",
        "    np.random.shuffle(a)\n",
        "    np.random.set_state(rng_state)\n",
        "    np.random.shuffle(b)"
      ],
      "execution_count": 2,
      "outputs": []
    },
    {
      "cell_type": "code",
      "metadata": {
        "id": "m0MQcCt0eS8D",
        "colab_type": "code",
        "colab": {}
      },
      "source": [
        "class SMSData:\n",
        "    def __init__(self, fileName, label):\n",
        "        self.fileName = fileName\n",
        "        f = open(self.fileName)\n",
        "        data = json.load(f)\n",
        "        self.accelX = np.array(data['values']['5FF8'])\n",
        "        self.accelY = np.array(data['values']['5FF9'])\n",
        "        self.accelZ = np.array(data['values']['5FFA'])\n",
        "        # Collapse the last two columns to one by 2-norm of the components\n",
        "        self.accelX = np.sqrt(np.square(self.accelX[:,:,0]) + np.square(self.accelX[:, :, 1]))\n",
        "        self.accelY = np.sqrt(np.square(self.accelY[:,:,0]) + np.square(self.accelY[:, :, 1]))\n",
        "        self.accelZ = np.sqrt(np.square(self.accelZ[:,:,0]) + np.square(self.accelZ[:, :, 1]))\n",
        "        # Close the file\n",
        "        f.close()\n",
        "        self.minCols = (min(self.accelX.shape[1], self.accelY.shape[1], self.accelZ.shape[1]))\n",
        "        self.accelX  = np.transpose(self.accelX[:, 0: self.minCols])\n",
        "        self.accelY  = np.transpose(self.accelY[:, 0: self.minCols])\n",
        "        self.accelZ  = np.transpose(self.accelZ[:, 0: self.minCols])\n",
        "        self.yData   = np.ones([self.accelY.shape[0], 1])*label\n",
        "        self.featVecA = self.accelX + self.accelY + self.accelZ \n",
        "        self.featVecB  = np.dstack((self.accelX, self.accelY, self.accelZ))\n"
      ],
      "execution_count": 3,
      "outputs": []
    },
    {
      "cell_type": "code",
      "metadata": {
        "id": "tjxpShbrWEzn",
        "colab_type": "code",
        "colab": {}
      },
      "source": [
        "# create empty objects\n",
        "SMSDataObjNormal_1   = []\n",
        "SMSDataObjNormal_2   = []\n",
        "SMSDataObjabNormal_1 = []\n",
        "SMSDataObjabNormal_2 = []\n",
        "\n",
        "# define a class object to hold the data\n",
        "SMSDataObjNormal_1 = SMSData(\"/content/sample_data/normal_1_6dB_Fan.json\", 0)\n",
        "SMSDataObjNormal_2 = SMSData(\"/content/sample_data/normal_2_6dB_Fan.json\", 0)\n",
        "SMSDataObjabNormal_1 = SMSData(\"/content/sample_data/abnormal_1_6dB_Fan.json\", 1)\n",
        "SMSDataObjabNormal_2 = SMSData(\"/content/sample_data/abnormal_2_6dB_Fan.json\", 1)\n",
        "SMSDataObjabNormal_4 = SMSData(\"/content/sample_data/abnormal_4HP_6dB_Fan.json\", 1)\n",
        "SMSDataObjNormal_5 = SMSData(\"/content/sample_data/normal_5_6dB_Fan.json\", 0)\n"
      ],
      "execution_count": 4,
      "outputs": []
    },
    {
      "cell_type": "code",
      "metadata": {
        "id": "rO3rNY-SyU0p",
        "colab_type": "code",
        "colab": {
          "base_uri": "https://localhost:8080/",
          "height": 85
        },
        "outputId": "fcb4e045-a5ea-4a1c-f467-c98e1e6d4df6"
      },
      "source": [
        "# for debug purpose\n",
        "print('No of columns used', SMSDataObjabNormal_1.minCols)\n",
        "print('Size of each axis', np.shape(SMSDataObjabNormal_1.accelX))\n",
        "print('Feature vector B looks like', np.shape(SMSDataObjabNormal_1.featVecB))\n",
        "minCols = min(SMSDataObjNormal_1.minCols, SMSDataObjNormal_2.minCols, SMSDataObjabNormal_1.minCols, SMSDataObjabNormal_1.minCols, SMSDataObjabNormal_4.minCols)\n",
        "print('Minimum cols across the data is', minCols)"
      ],
      "execution_count": 5,
      "outputs": [
        {
          "output_type": "stream",
          "text": [
            "No of columns used 513\n",
            "Size of each axis (513, 256)\n",
            "Feature vector B looks like (513, 256, 3)\n",
            "Minimum cols across the data is 512\n"
          ],
          "name": "stdout"
        }
      ]
    },
    {
      "cell_type": "code",
      "metadata": {
        "id": "1Y-iYAKfIuaq",
        "colab_type": "code",
        "colab": {
          "base_uri": "https://localhost:8080/",
          "height": 34
        },
        "outputId": "6f07fffa-56b3-4796-eac7-0fd1af53303a"
      },
      "source": [
        "# get data in x (input) and y (output)\n",
        "x = np.concatenate((SMSDataObjNormal_1.featVecB, SMSDataObjabNormal_1.featVecB, \n",
        "                    SMSDataObjNormal_2.featVecB, SMSDataObjabNormal_2.featVecB,\n",
        "                    SMSDataObjabNormal_4.featVecB, SMSDataObjNormal_5.featVecB))\n",
        "\n",
        "y = np.concatenate((SMSDataObjNormal_1.yData, SMSDataObjabNormal_1.yData, \n",
        "                    SMSDataObjNormal_2.yData, SMSDataObjabNormal_2.yData,\n",
        "                    SMSDataObjabNormal_4.yData, SMSDataObjNormal_5.yData))\n",
        "\n",
        "# now shuffle the data, it doesn't matter anymore if these appear in order \n",
        "shuffle_in_unison_scary(x, y)\n",
        "\n",
        "print(np.shape(x), np.shape(y))"
      ],
      "execution_count": 6,
      "outputs": [
        {
          "output_type": "stream",
          "text": [
            "(3078, 256, 3) (3078, 1)\n"
          ],
          "name": "stdout"
        }
      ]
    },
    {
      "cell_type": "code",
      "metadata": {
        "id": "jrHs9-0F_yMt",
        "colab_type": "code",
        "colab": {
          "base_uri": "https://localhost:8080/",
          "height": 119
        },
        "outputId": "d72e620a-fce3-42fd-a768-ca8874ff6f52"
      },
      "source": [
        "trainIdx = 2051\n",
        "validIdx = 2051\n",
        "testIdx = 2651\n",
        "endIdx = 3075\n",
        "# generate a dataset for training and testing\n",
        "x_train = x[1:trainIdx, :, :]\n",
        "y_train = y[1:trainIdx, :]\n",
        "\n",
        "x_valid = x[validIdx:testIdx, :, :]\n",
        "y_valid = y[validIdx:testIdx, :]\n",
        "\n",
        "\n",
        "x_test = x[testIdx:endIdx, :, :]\n",
        "y_test = y[testIdx:endIdx, :]\n",
        "\n",
        "# check vector shape\n",
        "print(x_train.shape)\n",
        "print(y_train.shape)\n",
        "\n",
        "print(x_valid.shape)\n",
        "print(y_valid.shape)\n",
        "\n",
        "print(x_test.shape)\n",
        "print(y_test.shape)"
      ],
      "execution_count": 7,
      "outputs": [
        {
          "output_type": "stream",
          "text": [
            "(2050, 256, 3)\n",
            "(2050, 1)\n",
            "(600, 256, 3)\n",
            "(600, 1)\n",
            "(424, 256, 3)\n",
            "(424, 1)\n"
          ],
          "name": "stdout"
        }
      ]
    },
    {
      "cell_type": "code",
      "metadata": {
        "id": "aqfmDM63GJqf",
        "colab_type": "code",
        "colab": {
          "base_uri": "https://localhost:8080/",
          "height": 85
        },
        "outputId": "a7e93085-e8f8-451b-ab4d-aac10ba33caa"
      },
      "source": [
        "# check vector shape\n",
        "print(x_train.shape)\n",
        "print(y_train.shape)\n",
        "\n",
        "print(x_test.shape)\n",
        "print(y_test.shape)\n"
      ],
      "execution_count": 135,
      "outputs": [
        {
          "output_type": "stream",
          "text": [
            "(2200, 256, 3)\n",
            "(2200, 1)\n",
            "(359, 256, 3)\n",
            "(359, 1)\n"
          ],
          "name": "stdout"
        }
      ]
    },
    {
      "cell_type": "code",
      "metadata": {
        "id": "xJR7yZe6qNnf",
        "colab_type": "code",
        "colab": {}
      },
      "source": [
        "# time to try NN\n",
        "\n",
        "# model\n",
        "model = tf.keras.models.Sequential([\n",
        "  tf.keras.layers.Flatten(input_shape=(256, 3)),\n",
        "  tf.keras.layers.Dense(64, activation='relu'),\n",
        "  tf.keras.layers.Dropout(0.2),\n",
        "  tf.keras.layers.Dense(2)\n",
        "])\n",
        "\n",
        "# loss function\n",
        "loss_fn = tf.keras.losses.SparseCategoricalCrossentropy(from_logits=True)\n",
        "\n",
        "# settings\n",
        "model.compile(optimizer='adam',\n",
        "              loss=loss_fn,\n",
        "              metrics=['accuracy'])\n",
        "#model.compile(optimizer='rmsprop', loss='mse', metrics=['mae'])"
      ],
      "execution_count": 29,
      "outputs": []
    },
    {
      "cell_type": "code",
      "metadata": {
        "id": "GrcMPIasqoGF",
        "colab_type": "code",
        "colab": {
          "base_uri": "https://localhost:8080/",
          "height": 527
        },
        "outputId": "6a639656-dd45-4ad5-d3f0-bed5525b585f"
      },
      "source": [
        "# train the dog\n",
        "trgHist = model.fit(x_train, y_train, epochs=15, batch_size=16, validation_data=(x_valid, y_valid))"
      ],
      "execution_count": 31,
      "outputs": [
        {
          "output_type": "stream",
          "text": [
            "Epoch 1/15\n",
            "129/129 [==============================] - 0s 2ms/step - loss: 0.0152 - accuracy: 0.9946 - val_loss: 0.1968 - val_accuracy: 0.9650\n",
            "Epoch 2/15\n",
            "129/129 [==============================] - 0s 2ms/step - loss: 0.0181 - accuracy: 0.9922 - val_loss: 0.2667 - val_accuracy: 0.9567\n",
            "Epoch 3/15\n",
            "129/129 [==============================] - 0s 2ms/step - loss: 0.0251 - accuracy: 0.9878 - val_loss: 0.1751 - val_accuracy: 0.9617\n",
            "Epoch 4/15\n",
            "129/129 [==============================] - 0s 2ms/step - loss: 0.0126 - accuracy: 0.9951 - val_loss: 0.2157 - val_accuracy: 0.9633\n",
            "Epoch 5/15\n",
            "129/129 [==============================] - 0s 2ms/step - loss: 0.0140 - accuracy: 0.9956 - val_loss: 0.1995 - val_accuracy: 0.9600\n",
            "Epoch 6/15\n",
            "129/129 [==============================] - 0s 2ms/step - loss: 0.0072 - accuracy: 0.9966 - val_loss: 0.2206 - val_accuracy: 0.9633\n",
            "Epoch 7/15\n",
            "129/129 [==============================] - 0s 2ms/step - loss: 0.0089 - accuracy: 0.9966 - val_loss: 0.2123 - val_accuracy: 0.9617\n",
            "Epoch 8/15\n",
            "129/129 [==============================] - 0s 2ms/step - loss: 0.0072 - accuracy: 0.9971 - val_loss: 0.2337 - val_accuracy: 0.9617\n",
            "Epoch 9/15\n",
            "129/129 [==============================] - 0s 2ms/step - loss: 0.0067 - accuracy: 0.9971 - val_loss: 0.2369 - val_accuracy: 0.9633\n",
            "Epoch 10/15\n",
            "129/129 [==============================] - 0s 2ms/step - loss: 0.0068 - accuracy: 0.9971 - val_loss: 0.2360 - val_accuracy: 0.9633\n",
            "Epoch 11/15\n",
            "129/129 [==============================] - 0s 2ms/step - loss: 0.0092 - accuracy: 0.9956 - val_loss: 0.2015 - val_accuracy: 0.9583\n",
            "Epoch 12/15\n",
            "129/129 [==============================] - 0s 2ms/step - loss: 0.0108 - accuracy: 0.9946 - val_loss: 0.3786 - val_accuracy: 0.9500\n",
            "Epoch 13/15\n",
            "129/129 [==============================] - 0s 2ms/step - loss: 0.0113 - accuracy: 0.9956 - val_loss: 0.2175 - val_accuracy: 0.9667\n",
            "Epoch 14/15\n",
            "129/129 [==============================] - 0s 2ms/step - loss: 0.0066 - accuracy: 0.9971 - val_loss: 0.2268 - val_accuracy: 0.9650\n",
            "Epoch 15/15\n",
            "129/129 [==============================] - 0s 2ms/step - loss: 0.0069 - accuracy: 0.9971 - val_loss: 0.3601 - val_accuracy: 0.9500\n"
          ],
          "name": "stdout"
        }
      ]
    },
    {
      "cell_type": "code",
      "metadata": {
        "id": "PrBRx5zf75R5",
        "colab_type": "code",
        "colab": {}
      },
      "source": [
        "# plot\n"
      ],
      "execution_count": null,
      "outputs": []
    },
    {
      "cell_type": "code",
      "metadata": {
        "id": "-Q0adDX1q64f",
        "colab_type": "code",
        "colab": {
          "base_uri": "https://localhost:8080/",
          "height": 51
        },
        "outputId": "b596952f-a2aa-4eae-bab5-4402c668dcfa"
      },
      "source": [
        "# ask him to perform tricks\n",
        "model.evaluate(x_test[1:400],  y_test[1:400], verbose=2)"
      ],
      "execution_count": 32,
      "outputs": [
        {
          "output_type": "stream",
          "text": [
            "13/13 - 0s - loss: 0.4691 - accuracy: 0.9373\n"
          ],
          "name": "stdout"
        },
        {
          "output_type": "execute_result",
          "data": {
            "text/plain": [
              "[0.46906447410583496, 0.9373433589935303]"
            ]
          },
          "metadata": {
            "tags": []
          },
          "execution_count": 32
        }
      ]
    },
    {
      "cell_type": "code",
      "metadata": {
        "id": "y8ufej2rrxAT",
        "colab_type": "code",
        "colab": {
          "base_uri": "https://localhost:8080/",
          "height": 68
        },
        "outputId": "8ceaf40c-fbea-46a7-9d94-3a73df377821"
      },
      "source": [
        "# what's the probability?\n",
        "probability_model = tf.keras.Sequential([\n",
        "  model,\n",
        "  tf.keras.layers.Softmax()\n",
        "])\n",
        "\n",
        "probability_model(x_test[1:3])"
      ],
      "execution_count": 153,
      "outputs": [
        {
          "output_type": "execute_result",
          "data": {
            "text/plain": [
              "<tf.Tensor: shape=(2, 2), dtype=float32, numpy=\n",
              "array([[1.0000000e+00, 9.5147978e-10],\n",
              "       [1.0178229e-07, 9.9999988e-01]], dtype=float32)>"
            ]
          },
          "metadata": {
            "tags": []
          },
          "execution_count": 153
        }
      ]
    },
    {
      "cell_type": "code",
      "metadata": {
        "id": "lX4fkqCssdCS",
        "colab_type": "code",
        "colab": {
          "base_uri": "https://localhost:8080/",
          "height": 34
        },
        "outputId": "4f0e3baa-d5a1-4343-9093-04548229300a"
      },
      "source": [
        "predictNow = model(x_test[120:121]).numpy()\n",
        "predictNow"
      ],
      "execution_count": 116,
      "outputs": [
        {
          "output_type": "execute_result",
          "data": {
            "text/plain": [
              "array([[-2.6798193, -4.1256447]], dtype=float32)"
            ]
          },
          "metadata": {
            "tags": []
          },
          "execution_count": 116
        }
      ]
    },
    {
      "cell_type": "code",
      "metadata": {
        "id": "I_WdkDAfAgC6",
        "colab_type": "code",
        "colab": {
          "base_uri": "https://localhost:8080/",
          "height": 51
        },
        "outputId": "c9c9dcff-6953-43ca-e264-66b03c8c40a2"
      },
      "source": [
        "SMSDataObjNormal_3 = SMSData(\"/content/sample_data/normal_3HP_6dB_Fan.json\", 0)\n",
        "print('Feature vector B looks like', np.shape(SMSDataObjNormal_3.featVecB))\n",
        "x_test_a = SMSDataObjNormal_3.featVecB[1:trainIdx, :, :]\n",
        "y_test_a = SMSDataObjNormal_3.yData[1:trainIdx, :]\n",
        "print(np.shape(x_test_a), np.shape(y_test_a))                          "
      ],
      "execution_count": 33,
      "outputs": [
        {
          "output_type": "stream",
          "text": [
            "Feature vector B looks like (512, 256, 3)\n",
            "(511, 256, 3) (511, 1)\n"
          ],
          "name": "stdout"
        }
      ]
    },
    {
      "cell_type": "code",
      "metadata": {
        "id": "MpDVLOhNBS0B",
        "colab_type": "code",
        "colab": {
          "base_uri": "https://localhost:8080/",
          "height": 51
        },
        "outputId": "5a75a56a-1ac8-48ac-9a7f-ed09568690c4"
      },
      "source": [
        "model.evaluate(x_test_a,  y_test_a, verbose=2)"
      ],
      "execution_count": 34,
      "outputs": [
        {
          "output_type": "stream",
          "text": [
            "16/16 - 0s - loss: 3.0422 - accuracy: 0.8063\n"
          ],
          "name": "stdout"
        },
        {
          "output_type": "execute_result",
          "data": {
            "text/plain": [
              "[3.04223370552063, 0.8062622547149658]"
            ]
          },
          "metadata": {
            "tags": []
          },
          "execution_count": 34
        }
      ]
    },
    {
      "cell_type": "code",
      "metadata": {
        "id": "7oOnu63dHW_v",
        "colab_type": "code",
        "colab": {
          "base_uri": "https://localhost:8080/",
          "height": 51
        },
        "outputId": "f4dd5eb1-45f6-49ef-cc16-5bd2ae00b109"
      },
      "source": [
        "SMSDataObjabNormal_3 = SMSData(\"/content/sample_data/abnormal_3HP_6dB_Fan.json\", 1)\n",
        "print('Feature vector B looks like', np.shape(SMSDataObjabNormal_3.featVecB))\n",
        "x_test_ab = SMSDataObjabNormal_3.featVecB[1:trainIdx, :, :]\n",
        "y_test_ab = SMSDataObjabNormal_3.yData[1:trainIdx, :]\n",
        "print(np.shape(x_test_ab), np.shape(y_test_ab))   "
      ],
      "execution_count": 35,
      "outputs": [
        {
          "output_type": "stream",
          "text": [
            "Feature vector B looks like (513, 256, 3)\n",
            "(512, 256, 3) (512, 1)\n"
          ],
          "name": "stdout"
        }
      ]
    },
    {
      "cell_type": "code",
      "metadata": {
        "id": "pH_DjWKaHtS0",
        "colab_type": "code",
        "colab": {
          "base_uri": "https://localhost:8080/",
          "height": 51
        },
        "outputId": "5e433077-44f0-44a2-a63a-287b0c2cb2af"
      },
      "source": [
        "model.evaluate(x_test_ab,  y_test_ab, verbose=2)"
      ],
      "execution_count": 36,
      "outputs": [
        {
          "output_type": "stream",
          "text": [
            "16/16 - 0s - loss: 4.6873 - accuracy: 0.8281\n"
          ],
          "name": "stdout"
        },
        {
          "output_type": "execute_result",
          "data": {
            "text/plain": [
              "[4.687267780303955, 0.828125]"
            ]
          },
          "metadata": {
            "tags": []
          },
          "execution_count": 36
        }
      ]
    },
    {
      "cell_type": "code",
      "metadata": {
        "id": "iRV76GHYv9oO",
        "colab_type": "code",
        "colab": {
          "base_uri": "https://localhost:8080/",
          "height": 51
        },
        "outputId": "c0220c35-cad7-4284-b596-3a2c11d38824"
      },
      "source": [
        "SMSDataObjNormal_4 = SMSData(\"/content/sample_data/normal_4HP_6dB_Fan.json\", 0)\n",
        "print('Feature vector B looks like', np.shape(SMSDataObjNormal_4.featVecB))\n",
        "x_test_ab = SMSDataObjNormal_4.featVecB[1:trainIdx, :, :]\n",
        "y_test_ab = SMSDataObjNormal_4.yData[1:trainIdx, :]\n",
        "print(np.shape(x_test_ab), np.shape(y_test_ab))  "
      ],
      "execution_count": 37,
      "outputs": [
        {
          "output_type": "stream",
          "text": [
            "Feature vector B looks like (513, 256, 3)\n",
            "(512, 256, 3) (512, 1)\n"
          ],
          "name": "stdout"
        }
      ]
    },
    {
      "cell_type": "code",
      "metadata": {
        "id": "XaRV-wQGwJH1",
        "colab_type": "code",
        "colab": {
          "base_uri": "https://localhost:8080/",
          "height": 51
        },
        "outputId": "fe363df0-b279-4093-91fe-136907498e56"
      },
      "source": [
        "model.evaluate(x_test_ab,  y_test_ab, verbose=2)"
      ],
      "execution_count": 38,
      "outputs": [
        {
          "output_type": "stream",
          "text": [
            "16/16 - 0s - loss: 0.9417 - accuracy: 0.9395\n"
          ],
          "name": "stdout"
        },
        {
          "output_type": "execute_result",
          "data": {
            "text/plain": [
              "[0.941677451133728, 0.939453125]"
            ]
          },
          "metadata": {
            "tags": []
          },
          "execution_count": 38
        }
      ]
    }
  ]
}